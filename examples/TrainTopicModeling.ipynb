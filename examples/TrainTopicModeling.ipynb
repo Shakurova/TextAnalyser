{
 "cells": [
  {
   "cell_type": "markdown",
   "metadata": {},
   "source": [
    "# Topic Modeling with Sklearn: NMF, LDA and LSI"
   ]
  },
  {
   "cell_type": "markdown",
   "metadata": {},
   "source": [
    "## 1. Get the data"
   ]
  },
  {
   "cell_type": "markdown",
   "metadata": {},
   "source": [
    "1. **Download wikipedia dumps:**\n",
    "\n",
    "```\n",
    "wget simplewiki-latest-pages-articles.xml.bz2\n",
    "```\n",
    "\n",
    "2. **Clone WikiExtractor:**\n",
    "\n",
    "```\n",
    "git clone https://github.com/attardi/wikiextractor.git\n",
    "```\n",
    "\n",
    "3. **Unzip the file and extract Wiki Articles**\n",
    "\n",
    "``` \n",
    "cd wikiextractor-master\n",
    "python WikiExtractor.py simplewiki-latest-pages-articles.xml \n",
    "```\n",
    "\n",
    "4. **Concatenate several extracted files into one and save them in the project root folder:**\n",
    "\n",
    "```\n",
    "cat ./wikiextractor-master/text/*/* > full_wiki.txt\n",
    "```\n",
    "\n",
    "    Or use any of the smallerr filed from ./data folder\n",
    "\n",
    "5. **Install the requirements**\n",
    "\n",
    "```\n",
    "pip install -r requirements\n",
    "```"
   ]
  },
  {
   "cell_type": "markdown",
   "metadata": {},
   "source": [
    "## 2. Train the models"
   ]
  },
  {
   "cell_type": "code",
   "execution_count": 1,
   "metadata": {},
   "outputs": [],
   "source": [
    "import pickle\n",
    "\n",
    "import pandas as pd\n",
    "import numpy as np\n",
    "\n",
    "import matplotlib.pyplot as plt\n",
    "\n",
    "from bs4 import BeautifulSoup\n",
    "from nltk.tokenize import RegexpTokenizer\n",
    "from nltk.stem import WordNetLemmatizer\n",
    "from spacy.lang.en.stop_words import STOP_WORDS as spacy_stopwords\n",
    "\n",
    "from wordcloud import WordCloud, ImageColorGenerator\n",
    "\n",
    "from sklearn.feature_extraction.text import CountVectorizer, TfidfTransformer, TfidfVectorizer\n",
    "from sklearn.decomposition import NMF, LatentDirichletAllocation, TruncatedSVD\n",
    "from sklearn.model_selection import train_test_split\n",
    "\n",
    "import logging\n",
    "\n",
    "import os\n",
    "import sys\n",
    "sys.path.append(os.path.dirname(os.path.abspath('../TextAnalyser')))\n",
    "from TextAnalyser.TopicModeling import TopicModeling\n",
    "\n",
    "lemm = WordNetLemmatizer()\n",
    "\n",
    "logging.basicConfig(format='%(asctime)s : %(levelname)s : %(message)s', level=logging.INFO)"
   ]
  },
  {
   "cell_type": "markdown",
   "metadata": {},
   "source": [
    "# Prepare data"
   ]
  },
  {
   "cell_type": "code",
   "execution_count": 2,
   "metadata": {},
   "outputs": [
    {
     "name": "stdout",
     "output_type": "stream",
     "text": [
      "Number of documents: 5298\n",
      "4716 train documents\n",
      "525 test documents\n"
     ]
    }
   ],
   "source": [
    "# Read file\n",
    "wiki = open('../data/merged_wiki.txt')\n",
    "parsed_documents = BeautifulSoup(wiki)\n",
    "docs = parsed_documents.findAll(\"doc\")\n",
    "print('Number of documents:', len(docs))\n",
    "\n",
    "# Clean text\n",
    "docs_list = []\n",
    "for doc in docs:\n",
    "    text = doc.string\n",
    "    if isinstance(text, str):\n",
    "        docs_list.append(text)\n",
    "\n",
    "# Split to train and test\n",
    "train_docs, test_docs = train_test_split(docs_list, test_size=0.1, random_state=42)\n",
    "print(len(train_docs), 'train documents')\n",
    "print(len(test_docs), 'test documents')"
   ]
  },
  {
   "cell_type": "markdown",
   "metadata": {},
   "source": [
    "# Train models"
   ]
  },
  {
   "cell_type": "code",
   "execution_count": 3,
   "metadata": {},
   "outputs": [
    {
     "name": "stdout",
     "output_type": "stream",
     "text": [
      "NMF topic values:  (4716, 100)\n"
     ]
    }
   ],
   "source": [
    "nmf_modeling = TopicModeling()\n",
    "nmf_modeling.train_model(train_docs, model_type='nmf')\n",
    "nmf_modeling.save_model('../models/nmf_model.merged.pkl', '../models/nmf_vectorizer.merged.pkl')"
   ]
  },
  {
   "cell_type": "code",
   "execution_count": 4,
   "metadata": {},
   "outputs": [
    {
     "name": "stdout",
     "output_type": "stream",
     "text": [
      "LDA topic values:  (4716, 100)\n"
     ]
    }
   ],
   "source": [
    "lda_modeling = TopicModeling()\n",
    "lda_modeling.train_model(train_docs, model_type='lda')\n",
    "lda_modeling.save_model('../models/lda_model.merged.pkl', '../models/lda_vectorizer.merged.pkl')"
   ]
  },
  {
   "cell_type": "code",
   "execution_count": 5,
   "metadata": {},
   "outputs": [
    {
     "name": "stdout",
     "output_type": "stream",
     "text": [
      "LSI topic values:  (4716, 100)\n"
     ]
    }
   ],
   "source": [
    "lsi_modeling = TopicModeling()\n",
    "lsi_modeling.train_model(train_docs, model_type='lsi')\n",
    "lsi_modeling.save_model('../models/lsi_model.merged.pkl', '../models/lsi_vectorizer.merged.pkl')"
   ]
  },
  {
   "cell_type": "markdown",
   "metadata": {},
   "source": [
    "# Show top keywords for different models"
   ]
  },
  {
   "cell_type": "code",
   "execution_count": 6,
   "metadata": {
    "scrolled": true
   },
   "outputs": [
    {
     "name": "stdout",
     "output_type": "stream",
     "text": [
      "Topic # 0 :  ['young', 'famous', 'final', 'film', 'fighting', 'fight', 'field', 'female', 'feel', 'february', 'feature', 'father', 'faster', 'fast', 'far', 'family', 'equation', 'fall', 'factory', 'fact']\n",
      "Topic # 1 :  ['calendar', 'starting', 'common', 'year', 'leap', 'started', 'according', 'known', '1970s', '2002', 'ad', '2005', '2003', 'eastern', '2009', '2007', '2004', 'method', 'look', 'use']\n",
      "Topic # 2 :  ['city', 'largest', '000', 'climate', 'famous', 'biggest', 'people', 'airport', 'center', 'population', 'centre', 'capital', 'live', 'important', 'museum', 'home', 'million', 'known', 'built', 'named']\n",
      "Topic # 3 :  ['born', 'american', 'singer', 'award', 'best', 'known', 'won', 'california', 'married', 'famous', 'musician', 'grew', 'career', 'host', '1970s', 'heart', 'brother', 'san', '2010', '10']\n",
      "Topic # 4 :  ['mean', 'place', 'seen', 'greek', 'right', 'good', 'named', 'true', 'method', 'medium', 'internet', 'term', 'try', 'solar', 'hole', 'following', 'meaning', 'member', 'piece', 'spanish']\n",
      "Topic # 5 :  ['war', 'world', 'empire', 'soviet', 'union', 'army', 'ii', 'battle', 'force', 'russian', 'russia', 'weapon', 'soldier', 'power', 'military', 'fought', 'civil', 'roman', 'party', 'bc']\n",
      "Topic # 6 :  ['album', 'released', 'single', 'record', 'hit', 'sold', 'studio', 'tour', 'band', 'recorded', 'successful', 'release', 'award', 'artist', 'million', 'success', 'live', 'copy', 'music', 'new']\n",
      "Topic # 7 :  ['language', 'spoken', 'speak', 'latin', 'spanish', 'official', 'portuguese', 'written', 'native', 'learn', 'different', 'writing', 'esperanto', 'program', 'italian', 'million', 'sound', 'india', 'understand', 'like']\n",
      "Topic # 8 :  ['game', 'video', 'player', 'boy', 'released', 'play', 'mario', 'card', 'character', 'played', 'playing', 'popular', 'olympic', 'japan', 'version', 'win', 'sold', 'feature', 'final', 'set']\n",
      "Topic # 9 :  ['mountain', 'volcano', 'mount', 'rock', 'highest', 'active', 'earth', 'high', 'range', 'snow', 'level', 'flow', 'ago', 'hill', 'formed', 'place', 'km', 'western', 'british', 'year']\n",
      "Topic # 10 :  ['state', 'united', 'american', 'mexico', 'virginia', 'america', 'kingdom', 'territory', 'border', 'washington', 'government', 'largest', 'flower', 'law', 'san', 'native', 'national', 'biggest', 'california', 'canada']\n",
      "Topic # 11 :  ['club', 'football', 'league', 'play', 'cup', 'season', 'won', 'park', 'division', 'home', 'ground', 'founded', 'white', 'england', 'english', 'played', 'west', 'time', 'united', 'famous']\n",
      "Topic # 12 :  ['young', 'famous', 'final', 'film', 'fighting', 'fight', 'field', 'female', 'feel', 'february', 'feature', 'father', 'faster', 'fast', 'far', 'family', 'equation', 'fall', 'factory', 'fact']\n",
      "Topic # 13 :  ['computer', 'program', 'data', 'device', 'drive', 'use', 'operating', 'software', 'information', 'machine', 'page', 'apple', 'code', 'user', 'read', 'internet', 'card', 'called', 'tool', 'technology']\n",
      "Topic # 14 :  ['area', 'population', 'region', 'land', 'square', 'district', '000', 'surface', 'largest', 'divided', 'desert', 'live', 'climate', 'million', 'house', 'local', 'total', 'central', 'outside', 'western']\n",
      "Topic # 15 :  ['island', 'pacific', 'mile', 'british', 'largest', 'coast', 'ocean', 'small', 'population', 'speak', 'group', 'world', 'main', 'near', 'biggest', 'japan', 'ireland', 'land', 'volcano', 'south']\n",
      "Topic # 16 :  ['team', 'football', 'league', 'player', 'ball', 'division', 'play', 'cup', 'played', 'sport', 'season', 'national', 'field', 'win', 'world', 'england', 'second', 'won', 'hit', 'called']\n",
      "Topic # 17 :  ['december', '31', 'ended', 'started', '10', '21', '28', '20', '30', '14', '23', '29', '15', '26', '16', 'end', '2007', '1999', 'winter', '2010']\n",
      "Topic # 18 :  ['list', 'page', 'note', 'famous', 'following', 'symbol', 'article', 'oil', 'exist', 'disorder', 'includes', 'mineral', 'world', 'include', 'wave', 'structure', 'wall', 'way', 'national', 'bridge']\n",
      "Topic # 19 :  ['number', 'example', 'equal', 'written', 'natural', 'equation', '10', 'line', 'value', 'element', 'thousand', 'table', 'circle', 'roman', 'write', '100', 'prime', 'square', 'group', '000']\n",
      "Topic # 20 :  ['march', '15', '20', 'day', '31', '10', '28', '29', '18', '16', '14', '30', '26', '23', 'singer', 'heart', 'northern', 'fall', 'season', 'southern']\n",
      "Topic # 21 :  ['word', 'meaning', 'example', 'sentence', 'verb', 'latin', 'use', 'greek', 'come', 'different', 'term', 'sound', 'like', 'change', 'information', 'know', 'came', 'mean', 'form', 'subject']\n",
      "Topic # 22 :  ['april', '23', '18', '15', '14', '29', '30', '26', '28', '10', '16', '20', 'paul', '2006', 'week', 'central', '2014', 'come', 'worked', 'married']\n",
      "Topic # 23 :  ['july', '10', '26', '30', '14', '20', '31', '18', '15', '21', '28', 'day', '16', '29', '23', 'died', 'governor', 'radio', 'tried', 'moved']\n",
      "Topic # 24 :  ['alphabet', 'letter', 'sound', 'greek', 'english', 'number', 'writing', 'fourth', 'latin', '23', '16', '14', '18', '20', '21', 'shape', 'character', 'chinese', 'roman', '15']\n",
      "Topic # 25 :  ['october', '31', '10', '23', '15', '30', '20', '18', '21', '26', '16', '14', 'famous', 'john', 'writer', 'day', '2007', 'member', '29', 'died']\n",
      "Topic # 26 :  ['january', '31', 'ended', '20', 'started', '18', '15', '30', '26', '10', '16', '21', '29', 'day', '23', '1999', '2014', 'end', 'joined', 'month']\n",
      "Topic # 27 :  ['capital', 'province', 'district', 'greece', 'city', 'territory', 'state', 'empire', 'colony', 'center', 'lower', 'divided', 'poland', 'lived', 'social', 'russian', '2014', 'founded', 'northern', 'official']\n",
      "Topic # 28 :  ['november', '16', '15', '18', '23', '21', '26', '20', '30', '14', '28', 'day', 'married', 'month', 'bush', 'robert', 'died', 'big', 'later', 'released']\n",
      "Topic # 29 :  ['august', '30', '16', '15', '21', '14', '31', '23', '20', '28', '26', 'died', 'german', 'began', 'best', 'cancer', 'west', 'big', 'month', 'care']\n",
      "Topic # 30 :  ['september', '18', '29', '14', '15', '20', '26', '21', '28', '16', '30', '2001', 'charles', '2006', 'born', 'attack', 'trade', 'center', 'later', 'month']\n",
      "Topic # 31 :  ['february', '28', '21', '26', '20', '23', '16', '18', '15', '14', '29', '2005', 'musician', 'radio', '2004', 'lost', 'died', 'day', '2009', 'month']\n",
      "Topic # 32 :  ['june', '18', '20', '26', '14', '23', '10', '15', '30', '16', 'day', '21', 'winter', '2003', '28', '2004', 'date', 'charles', 'month', '2008']\n",
      "Topic # 33 :  ['young', 'famous', 'final', 'film', 'fighting', 'fight', 'field', 'female', 'feel', 'february', 'feature', 'father', 'faster', 'fast', 'far', 'family', 'equation', 'fall', 'factory', 'fact']\n",
      "Topic # 34 :  ['music', 'instrument', 'composer', 'play', 'piano', 'musician', 'musical', 'sound', 'pop', 'dance', 'string', 'playing', 'video', 'wrote', 'player', 'guitar', 'record', 'bass', 'played', 'style']\n",
      "Topic # 35 :  ['river', 'flow', 'join', 'run', 'km', 'source', 'length', 'near', 'important', 'long', 'bank', 'bridge', 'border', 'water', 'west', 'north', 'wide', 'saint', 'meet', 'castle']\n",
      "Topic # 36 :  ['god', 'religion', 'believe', 'muslim', 'christian', 'islam', 'belief', 'bible', 'jew', 'said', 'greek', 'jesus', 'christianity', 'ancient', 'week', 'day', 'egypt', 'exist', 'idea', 'life']\n",
      "Topic # 37 :  ['king', 'england', 'henry', 'queen', 'kingdom', 'william', 'elizabeth', 'mary', 'roman', 'britain', 'empire', 'great', 'son', 'anne', 'head', 'castle', 'married', 'died', 'jane', 'daughter']\n",
      "Topic # 38 :  ['body', 'human', 'organ', 'muscle', 'blood', 'bone', 'brain', 'skin', 'function', 'form', 'help', 'animal', 'study', 'physical', 'come', 'heart', 'believe', 'death', 'hair', 'dead']\n",
      "Topic # 39 :  ['president', 'party', 'election', 'bush', 'elected', 'united', 'republican', 'government', 'office', 'term', 'vote', 'minister', 'democratic', 'political', 'george', 'house', 'prime', 'served', 'washington', 'governor']\n",
      "Topic # 40 :  ['thing', 'different', 'page', 'like', 'real', 'example', 'human', 'nature', 'mind', 'created', 'place', 'copy', 'source', 'way', 'question', 'symbol', 'money', 'natural', 'life', 'story']\n",
      "Topic # 41 :  ['book', 'wrote', 'story', 'written', 'writer', 'famous', 'published', 'work', 'writing', 'bible', 'character', 'magazine', 'read', 'article', 'life', 'write', 'known', 'world', 'brown', 'idea']\n",
      "Topic # 42 :  ['band', 'rock', 'formed', 'guitar', 'member', 'group', 'musician', 'bass', 'american', 'played', 'popular', 'lead', 'style', '1970s', 'blue', 'left', 'early', 'started', 'playing', 'joined']\n",
      "Topic # 43 :  ['color', 'red', 'white', 'blue', 'black', 'green', 'fruit', 'colour', 'brown', 'shown', 'dark', 'come', 'hair', 'substance', 'material', 'skin', 'flower', 'light', 'chemical', 'foot']\n",
      "Topic # 44 :  ['english', 'british', 'verb', 'special', 'simple', 'second', 'learn', 'form', 'england', 'spanish', 'john', 'britain', 'dutch', 'come', 'subject', 'general', 'ireland', 'change', '21', 'canada']\n",
      "Topic # 45 :  ['people', 'group', 'think', 'live', 'want', 'use', 'law', 'called', 'place', 'government', 'help', 'way', 'believe', 'said', 'money', 'society', 'good', 'like', 'religion', 'right']\n",
      "Topic # 46 :  ['country', 'government', 'republic', 'european', 'union', 'national', 'official', 'member', 'kingdom', 'nation', 'world', 'economy', 'africa', 'independence', 'minister', 'divided', 'power', 'group', 'party', 'law']\n",
      "Topic # 47 :  ['movie', 'award', 'film', 'picture', 'story', 'released', 'studio', 'based', 'park', 'won', 'company', 'california', 'appeared', 'care', 'famous', 'television', 'original', 'successful', 'role', 'tv']\n",
      "Topic # 48 :  ['person', 'crime', 'law', 'work', 'example', 'court', 'act', 'legal', 'job', 'cause', 'usually', 'called', 'want', 'normally', 'way', 'good', 'disorder', 'charge', 'protect', 'help']\n",
      "Topic # 49 :  ['letter', 'symbol', 'written', 'short', 'place', 'write', 'office', 'case', 'added', 'right', 'rock', 'instead', 'hill', 'said', 'form', 'jew', 'sentence', 'equation', 'created', 'paper']\n",
      "Topic # 50 :  ['cell', 'protein', 'blood', 'virus', 'organism', 'molecule', 'living', 'acid', 'called', 'reaction', 'inside', 'gene', 'function', 'plant', 'bacteria', 'chemical', 'type', 'substance', 'structure', 'brain']\n",
      "Topic # 51 :  ['germany', 'german', 'poland', 'district', '000', 'austria', 'nazi', 'east', 'state', 'border', 'west', 'biggest', 'near', 'centre', 'netherlands', 'forest', '23', 'divided', 'democratic', 'north']\n",
      "Topic # 52 :  ['water', 'air', 'liquid', 'temperature', 'ice', 'rain', 'dry', 'gas', 'drink', 'snow', 'salt', 'oil', 'cold', 'surface', 'ground', 'pressure', 'degree', 'oxygen', 'solid', 'heat']\n",
      "Topic # 53 :  ['food', 'eat', 'milk', 'meat', 'oil', 'kind', 'protein', 'sugar', 'drink', 'hot', 'lot', 'good', 'acid', 'bacteria', 'small', 'teeth', 'fast', 'called', 'store', 'served']\n",
      "Topic # 54 :  ['metal', 'copper', 'element', 'iron', 'compound', 'material', 'table', 'gold', 'tool', 'wood', 'steel', 'non', 'mineral', 'common', 'solid', 'property', 'high', 'cut', 'salt', 'bass']\n",
      "Topic # 55 :  ['car', 'company', 'engine', 'model', 'drive', 'owned', 'sold', 'factory', 'buy', 'produced', 'built', 'line', 'production', 'started', 'road', 'land', 'sell', 'italy', 'boat', '2008']\n",
      "Topic # 56 :  ['london', 'england', 'south', 'royal', 'central', 'station', 'market', 'west', 'street', 'east', 'road', 'house', 'british', 'kingdom', 'old', 'north', 'wrote', 'time', 'town', 'united']\n",
      "Topic # 57 :  ['series', 'television', 'network', 'character', 'tv', 'american', 'season', 'radio', '2004', 'played', 'named', 'friend', 'appeared', 'popular', 'known', 'program', 'green', 'created', 'best', 'magazine']\n",
      "Topic # 58 :  ['ship', 'boat', 'port', 'carry', 'england', 'ocean', 'built', 'land', 'men', 'british', 'went', '000', 'coast', 'place', 'died', 'largest', 'mary', 'dutch', 'battle', 'good']\n",
      "Topic # 59 :  ['century', 'note', 'year', '19th', '20th', 'started', 'according', 'known', 'empire', 'ruled', 'europe', '1999', 'age', '31', 'early', 'late', 'lived', 'revolution', 'time', 'museum']\n",
      "Topic # 60 :  ['plant', 'fruit', 'flower', 'grow', 'tree', 'leaf', 'grown', 'green', 'specie', 'soil', 'produce', 'kind', 'drink', 'type', 'animal', 'tropical', 'family', 'long', 'forest', 'growing']\n",
      "Topic # 61 :  ['new', 'york', 'dutch', 'city', 'american', 'west', 'moved', 'canada', 'later', 'long', 'park', 'colony', 'australia', 'early', 'came', 'grew', 'time', 'southern', '1980s', 'original']\n",
      "Topic # 62 :  ['woman', 'men', 'male', 'sex', 'female', 'sexual', 'man', 'penis', 'baby', 'birth', 'right', 'wear', 'love', 'movement', 'child', 'girl', 'society', 'human', 'boy', 'organ']\n",
      "Topic # 63 :  ['song', 'singer', 'popular', 'hit', 'best', '1970s', 'known', 'record', 'music', 'recorded', 'include', 'pop', 'musical', 'friend', 'wrote', 'girl', 'written', 'including', 'called', 'musician']\n",
      "Topic # 64 :  ['atom', 'chemical', 'compound', 'electron', 'energy', 'gas', 'element', 'reaction', 'carbon', 'molecule', 'hydrogen', 'acid', 'oxygen', 'particle', 'substance', 'charge', 'form', 'nuclear', 'dioxide', 'temperature']\n",
      "Topic # 65 :  ['church', 'christian', 'catholic', 'pope', 'jesus', 'roman', 'bible', 'saint', 'christianity', 'eastern', 'believe', 'day', 'religious', 'holy', 'paul', 'jewish', 'rome', 'belief', 'latin', 'john']\n",
      "Topic # 66 :  ['building', 'built', 'tower', 'stone', 'wall', 'material', 'bridge', 'structure', 'castle', 'house', 'place', 'famous', 'site', 'museum', 'build', 'wind', 'design', 'world', 'ground', 'town']\n",
      "Topic # 67 :  ['scotland', 'region', 'saint', 'kingdom', 'coast', 'ireland', 'council', 'government', 'britain', 'local', 'british', 'east', 'married', 'ago', 'central', 'james', 'united', 'daughter', 'airport', 'built']\n",
      "Topic # 68 :  ['greece', 'greek', 'ancient', 'built', 'region', 'west', 'large', 'according', 'near', 'roman', '2001', 'north', 'bc', 'cut', 'empire', 'sea', 'written', 'bridge', 'love', 'biggest']\n",
      "Topic # 69 :  ['window', 'microsoft', 'operating', 'software', 'user', 'free', 'program', 'version', 'run', 'source', 'code', 'released', 'internet', 'based', 'release', 'available', 'open', 'office', 'feature', 'service']\n",
      "Topic # 70 :  ['france', 'henry', 'louis', 'paris', 'charles', 'saint', 'married', 'ii', 'died', 'italy', 'daughter', 'anne', 'queen', 'robert', 'spain', '14', 'jane', 'mary', 'son', '31']\n",
      "Topic # 71 :  ['school', 'student', 'high', 'education', 'college', 'subject', 'middle', 'public', 'age', 'st', 'child', 'job', 'learn', 'united', 'help', 'boy', 'parent', 'wear', 'train', 'medical']\n",
      "Topic # 72 :  ['sea', 'ocean', 'atlantic', 'level', 'pacific', 'europe', 'coast', 'northern', 'east', 'asia', 'work', 'dead', 'water', 'ancient', 'km', 'life', 'beach', 'important', 'indian', 'port']\n",
      "Topic # 73 :  ['north', 'south', 'america', 'east', 'west', 'africa', 'province', 'region', 'southern', 'central', 'asia', 'continent', 'northern', 'india', 'mountain', 'african', 'ocean', 'coast', 'largest', 'world']\n",
      "Topic # 74 :  ['disease', 'doctor', 'medicine', 'blood', 'virus', 'cause', 'medical', 'bacteria', 'symptom', 'treatment', 'caused', 'heart', 'cancer', 'death', 'health', 'drug', 'care', 'problem', 'bad', 'spread']\n",
      "Topic # 75 :  ['usually', 'called', 'time', 'like', 'type', 'use', 'different', 'kind', 'way', 'example', 'hand', 'long', 'small', 'place', 'common', 'form', 'line', 'large', 'come', 'good']\n",
      "Topic # 76 :  ['university', 'college', 'student', 'degree', 'education', 'famous', 'research', 'world', 'study', 'california', 'studied', 'technology', 'job', 'lot', 'home', 'international', 'work', 'popular', '2013', 'early']\n",
      "Topic # 77 :  ['china', 'chinese', 'republic', 'communist', 'japan', 'japanese', 'korea', 'emperor', 'asia', 'symbol', 'character', 'government', 'worker', 'east', 'art', 'leader', 'history', 'world', 'today', 'ancient']\n",
      "Topic # 78 :  ['unit', 'length', 'measure', 'equal', 'symbol', 'second', 'mass', 'distance', 'use', 'minute', 'degree', 'base', 'hour', 'mile', 'square', 'international', 'weight', '000', 'time', '60']\n",
      "Topic # 79 :  ['star', 'universe', 'white', 'red', 'set', 'black', 'hole', 'space', 'original', 'latin', '1999', 'source', 'sun', 'mass', 'distance', 'traditional', 'small', 'stand', 'event', 'film']\n",
      "Topic # 80 :  ['french', 'european', 'canada', 'france', 'paris', 'revolution', 'dutch', 'later', 'came', 'street', 'average', 'prince', 'british', 'invented', 'port', 'wrote', 'italian', 'netherlands', 'california', 'latin']\n",
      "Topic # 81 :  ['22', 'born', 'george', 'al', 'best', 'mary', 'louis', 'st', 'named', 'election', 'known', 'west', 'km', 'eventually', 'fast', 'europe', 'fight', 'field', 'female', 'feel']\n",
      "Topic # 82 :  ['24', 'hour', 'time', 'paul', 'minute', 'bridge', 'day', 'talk', 'eventually', 'faster', 'fighting', 'fight', 'european', 'field', 'female', 'feel', 'february', 'event', 'feature', 'father']\n",
      "Topic # 83 :  ['planet', 'earth', 'solar', 'sun', 'moon', 'orbit', 'space', 'atmosphere', 'ring', 'surface', 'mercury', 'time', 'seen', 'discovered', 'rock', 'point', 'gas', 'mass', 'wind', 'day']\n",
      "Topic # 84 :  ['lake', 'great', 'province', 'border', 'largest', 'salt', 'canada', 'mountain', 'forest', 'big', 'old', 'near', 'popular', 'national', 'highest', 'northern', 'world', 'town', 'saint', 'north']\n",
      "Topic # 85 :  ['child', 'father', 'family', 'died', 'mother', 'son', 'brother', 'married', 'life', 'later', 'wife', 'sister', 'daughter', 'born', 'parent', 'death', 'friend', 'age', 'wrote', 'moved']\n",
      "Topic # 86 :  ['17', 'heavy', 'age', 'air', 'anne', 'sister', 'pacific', 'smaller', 'television', 'mark', 'free', 'fact', 'february', 'feature', 'fruit', 'father', 'faster', 'fast', 'far', 'function']\n",
      "Topic # 87 :  ['13', 'musician', 'married', 'prime', 'man', 'age', 'day', 'time', 'think', 'father', 'far', 'fast', 'faster', 'february', 'feature', 'family', 'feel', 'female', 'field', 'famous']\n",
      "Topic # 88 :  ['county', 'town', 'england', 'district', 'village', 'south', 'west', 'near', 'council', 'east', 'mile', 'place', 'main', 'border', 'centre', 'port', '2001', 'built', 'industry', 'famous']\n",
      "Topic # 89 :  ['25', 'style', 'dutch', 'mile', 'hit', 'run', 'gun', 'young', 'feature', 'fast', 'faster', 'father', 'feel', 'february', 'female', 'field', 'fight', 'far', 'famous', 'film']\n",
      "Topic # 90 :  ['year', 'leap', 'day', 'calendar', 'week', 'month', 'started', 'time', 'bc', 'start', 'roman', 'known', 'following', 'begin', 'end', 'old', 'according', 'date', '29', 'began']\n",
      "Topic # 91 :  ['11', '2001', 'trade', 'attack', 'center', 'started', 'world', 'prime', 'produced', 'died', 'known', 'american', 'medium', 'mexico', 'killed', 'mother', 'minister', 'general', 'california', 'eye']\n",
      "Topic # 92 :  ['12', 'sun', 'night', 'time', '2004', 'old', 'hour', 'grew', 'california', '2003', 'cut', 'robert', 'solar', 'feature', 'faster', 'europe', 'father', 'eventually', 'european', 'feel']\n",
      "Topic # 93 :  ['animal', 'fish', 'eat', 'meat', 'mammal', 'life', 'live', 'human', 'insect', 'plant', 'called', 'dog', 'kill', 'land', 'like', 'forest', 'horse', 'kept', 'care', 'sound']\n",
      "Topic # 94 :  ['19', 'season', 'james', 'died', 'writer', 'sister', 'day', 'summer', '100', 'ii', 'famous', 'far', 'fast', 'faster', 'father', 'young', 'february', 'feel', 'female', 'field']\n",
      "Topic # 95 :  ['specie', 'bird', 'egg', 'live', 'mammal', 'family', 'wing', 'group', 'female', 'eat', 'insect', 'fly', 'male', 'living', 'adult', 'skin', 'america', 'life', 'small', 'long']\n",
      "Topic # 96 :  ['light', 'wave', 'camera', 'universe', 'energy', 'distance', 'speed', 'radio', 'particle', 'eye', 'image', 'theory', 'way', 'travel', 'glass', 'away', 'picture', 'space', 'hole', 'work']\n",
      "Topic # 97 :  ['object', 'force', 'mass', 'speed', 'moving', 'change', 'distance', 'energy', 'use', 'law', 'liquid', 'flat', 'surface', 'space', 'weight', 'temperature', 'called', 'example', 'physic', 'faster']\n",
      "Topic # 98 :  ['actor', 'role', 'best', 'television', 'known', 'play', 'played', 'doctor', 'appeared', 'john', 'robert', 'playing', 'stage', 'writer', 'married', 'award', 'american', 'born', 'famous', 'michael']\n",
      "Topic # 99 :  ['science', 'study', 'theory', 'idea', 'work', 'scientist', 'philosophy', 'scientific', 'philosopher', 'physic', 'universe', 'field', 'human', 'question', 'natural', 'research', 'life', 'information', 'understand', 'knowledge']\n"
     ]
    },
    {
     "ename": "FileNotFoundError",
     "evalue": "[Errno 2] No such file or directory: './results/nmf_topics.merged.csv'",
     "output_type": "error",
     "traceback": [
      "\u001b[0;31m---------------------------------------------------------------------------\u001b[0m",
      "\u001b[0;31mFileNotFoundError\u001b[0m                         Traceback (most recent call last)",
      "\u001b[0;32m<ipython-input-6-7f4221621638>\u001b[0m in \u001b[0;36m<module>\u001b[0;34m\u001b[0m\n\u001b[1;32m      1\u001b[0m \u001b[0mnmf_topics_df\u001b[0m \u001b[0;34m=\u001b[0m \u001b[0mnmf_modeling\u001b[0m\u001b[0;34m.\u001b[0m\u001b[0mcreate_topics_df\u001b[0m\u001b[0;34m(\u001b[0m\u001b[0;34m)\u001b[0m\u001b[0;34m\u001b[0m\u001b[0;34m\u001b[0m\u001b[0m\n\u001b[0;32m----> 2\u001b[0;31m \u001b[0mnmf_topics_df\u001b[0m\u001b[0;34m.\u001b[0m\u001b[0mto_csv\u001b[0m\u001b[0;34m(\u001b[0m\u001b[0;34m'./results/nmf_topics.merged.csv'\u001b[0m\u001b[0;34m)\u001b[0m\u001b[0;34m\u001b[0m\u001b[0;34m\u001b[0m\u001b[0m\n\u001b[0m",
      "\u001b[0;32m~/anaconda3/envs/amber/lib/python3.6/site-packages/pandas/core/generic.py\u001b[0m in \u001b[0;36mto_csv\u001b[0;34m(self, path_or_buf, sep, na_rep, float_format, columns, header, index, index_label, mode, encoding, compression, quoting, quotechar, line_terminator, chunksize, tupleize_cols, date_format, doublequote, escapechar, decimal)\u001b[0m\n\u001b[1;32m   3018\u001b[0m                                  \u001b[0mdoublequote\u001b[0m\u001b[0;34m=\u001b[0m\u001b[0mdoublequote\u001b[0m\u001b[0;34m,\u001b[0m\u001b[0;34m\u001b[0m\u001b[0;34m\u001b[0m\u001b[0m\n\u001b[1;32m   3019\u001b[0m                                  escapechar=escapechar, decimal=decimal)\n\u001b[0;32m-> 3020\u001b[0;31m         \u001b[0mformatter\u001b[0m\u001b[0;34m.\u001b[0m\u001b[0msave\u001b[0m\u001b[0;34m(\u001b[0m\u001b[0;34m)\u001b[0m\u001b[0;34m\u001b[0m\u001b[0;34m\u001b[0m\u001b[0m\n\u001b[0m\u001b[1;32m   3021\u001b[0m \u001b[0;34m\u001b[0m\u001b[0m\n\u001b[1;32m   3022\u001b[0m         \u001b[0;32mif\u001b[0m \u001b[0mpath_or_buf\u001b[0m \u001b[0;32mis\u001b[0m \u001b[0;32mNone\u001b[0m\u001b[0;34m:\u001b[0m\u001b[0;34m\u001b[0m\u001b[0;34m\u001b[0m\u001b[0m\n",
      "\u001b[0;32m~/anaconda3/envs/amber/lib/python3.6/site-packages/pandas/io/formats/csvs.py\u001b[0m in \u001b[0;36msave\u001b[0;34m(self)\u001b[0m\n\u001b[1;32m    155\u001b[0m             f, handles = _get_handle(self.path_or_buf, self.mode,\n\u001b[1;32m    156\u001b[0m                                      \u001b[0mencoding\u001b[0m\u001b[0;34m=\u001b[0m\u001b[0mself\u001b[0m\u001b[0;34m.\u001b[0m\u001b[0mencoding\u001b[0m\u001b[0;34m,\u001b[0m\u001b[0;34m\u001b[0m\u001b[0;34m\u001b[0m\u001b[0m\n\u001b[0;32m--> 157\u001b[0;31m                                      compression=self.compression)\n\u001b[0m\u001b[1;32m    158\u001b[0m             \u001b[0mclose\u001b[0m \u001b[0;34m=\u001b[0m \u001b[0;32mTrue\u001b[0m\u001b[0;34m\u001b[0m\u001b[0;34m\u001b[0m\u001b[0m\n\u001b[1;32m    159\u001b[0m \u001b[0;34m\u001b[0m\u001b[0m\n",
      "\u001b[0;32m~/anaconda3/envs/amber/lib/python3.6/site-packages/pandas/io/common.py\u001b[0m in \u001b[0;36m_get_handle\u001b[0;34m(path_or_buf, mode, encoding, compression, memory_map, is_text)\u001b[0m\n\u001b[1;32m    422\u001b[0m         \u001b[0;32melif\u001b[0m \u001b[0mencoding\u001b[0m\u001b[0;34m:\u001b[0m\u001b[0;34m\u001b[0m\u001b[0;34m\u001b[0m\u001b[0m\n\u001b[1;32m    423\u001b[0m             \u001b[0;31m# Python 3 and encoding\u001b[0m\u001b[0;34m\u001b[0m\u001b[0;34m\u001b[0m\u001b[0;34m\u001b[0m\u001b[0m\n\u001b[0;32m--> 424\u001b[0;31m             \u001b[0mf\u001b[0m \u001b[0;34m=\u001b[0m \u001b[0mopen\u001b[0m\u001b[0;34m(\u001b[0m\u001b[0mpath_or_buf\u001b[0m\u001b[0;34m,\u001b[0m \u001b[0mmode\u001b[0m\u001b[0;34m,\u001b[0m \u001b[0mencoding\u001b[0m\u001b[0;34m=\u001b[0m\u001b[0mencoding\u001b[0m\u001b[0;34m,\u001b[0m \u001b[0mnewline\u001b[0m\u001b[0;34m=\u001b[0m\u001b[0;34m\"\"\u001b[0m\u001b[0;34m)\u001b[0m\u001b[0;34m\u001b[0m\u001b[0;34m\u001b[0m\u001b[0m\n\u001b[0m\u001b[1;32m    425\u001b[0m         \u001b[0;32melif\u001b[0m \u001b[0mis_text\u001b[0m\u001b[0;34m:\u001b[0m\u001b[0;34m\u001b[0m\u001b[0;34m\u001b[0m\u001b[0m\n\u001b[1;32m    426\u001b[0m             \u001b[0;31m# Python 3 and no explicit encoding\u001b[0m\u001b[0;34m\u001b[0m\u001b[0;34m\u001b[0m\u001b[0;34m\u001b[0m\u001b[0m\n",
      "\u001b[0;31mFileNotFoundError\u001b[0m: [Errno 2] No such file or directory: './results/nmf_topics.merged.csv'"
     ]
    }
   ],
   "source": [
    "nmf_topics_df = nmf_modeling.create_topics_df()\n",
    "nmf_topics_df.to_csv('./results/nmf_topics.merged.csv')"
   ]
  },
  {
   "cell_type": "code",
   "execution_count": 7,
   "metadata": {},
   "outputs": [
    {
     "name": "stdout",
     "output_type": "stream",
     "text": [
      "Topic # 0 :  ['sea', 'water', 'ocean', 'level', 'dead', 'life', 'surface', 'point', 'reason', 'earth', 'able', 'live', 'west', 'bank', 'exist', 'let', 'bacteria', 'time', 'lake', 'come']\n",
      "Topic # 1 :  ['usually', 'considered', 'basic', 'long', 'tool', 'common', 'type', 'hand', 'metal', 'probably', 'wood', 'series', 'band', 'record', 'size', 'drink', 'milk', 'people', 'appeared', 'hit']\n",
      "Topic # 2 :  ['company', 'money', 'car', 'people', 'apple', 'service', 'radio', 'engine', 'business', 'sell', 'buy', 'called', 'product', 'pay', 'sold', 'country', 'public', 'government', 'like', 'model']\n",
      "Topic # 3 :  ['team', 'league', 'game', 'play', 'season', 'called', 'best', 'national', 'series', 'division', 'thing', 'network', 'player', 'american', 'al', 'card', 'today', 'record', 'time', 'end']\n",
      "Topic # 4 :  ['short', 'mainly', 'study', 'men', 'type', 'begin', 'television', 'named', 'sold', 'different', 'popular', 'day', 'color', 'like', 'band', 'story', 'doctor', 'america', 'published', 'travel']\n",
      "Topic # 5 :  ['book', 'list', 'story', 'wrote', 'writer', 'famous', 'work', 'written', 'article', 'published', 'writing', 'people', 'world', 'known', 'character', 'life', 'magazine', 'called', 'read', 'write']\n",
      "Topic # 6 :  ['team', 'play', 'card', 'division', 'series', 'league', 'round', 'american', 'best', 'end', 'table', 'national', 'played', 'playing', 'called', 'major', 'field', 'win', 'central', 'deal']\n",
      "Topic # 7 :  ['doctor', 'disease', 'medicine', 'treatment', 'medical', 'health', 'time', 'work', 'spread', 'people', 'british', 'person', 'stopped', 'quickly', 'control', 'worker', 'world', 'fourth', 'ii', 'family']\n",
      "Topic # 8 :  ['century', 'ancient', 'bc', 'year', 'roman', 'time', 'people', 'world', 'muslim', 'age', 'mosque', 'empire', 'history', 'modern', 'today', 'early', 'al', 'middle', 'ad', '19th']\n",
      "Topic # 9 :  ['week', 'day', 'rest', 'like', 'united', 'world', 'roman', 'jewish', 'come', 'country', 'god', 'kingdom', 'make', 'said', 'people', 'state', 'final', 'america', 'standard', 'organization']\n",
      "Topic # 10 :  ['26', 'official', 'africa', 'non', 'december', 'country', '000', 'lake', 'july', 'south', 'independence', 'language', 'divided', 'successful', 'republic', 'west', 'nation', 'received', 'april', '2000']\n",
      "Topic # 11 :  ['king', 'queen', 'country', 'kingdom', 'minister', 'prime', 'british', 'prince', 'scotland', 'member', 'elizabeth', 'britain', 'parliament', 'court', 'mary', 'called', 'royal', 'united', 'house', 'head']\n",
      "Topic # 12 :  ['country', 'called', 'moved', 'invented', 'war', 'company', 'north', 'year', 'area', 'italian', 'nation', 'people', 'new', 'began', 'died', 'later', 'electric', 'western', 'money', 'light']\n",
      "Topic # 13 :  ['year', 'day', 'calendar', 'common', 'month', 'week', 'december', 'january', 'starting', 'february', 'june', 'august', 'november', 'leap', 'april', 'march', 'october', 'hour', '24', '31']\n",
      "Topic # 14 :  ['word', 'mean', 'meaning', 'example', 'use', 'come', 'different', 'usually', 'thing', 'term', 'like', 'latin', 'verb', 'greek', 'simple', 'open', 'change', 'english', 'fact', 'talk']\n",
      "Topic # 15 :  ['queen', 'elizabeth', 'particle', 'prince', 'list', 'mineral', 'black', 'king', 'time', 'country', 'united', 'hole', 'called', 'idea', 'light', 'people', 'kingdom', 'ii', 'theory', 'british']\n",
      "Topic # 16 :  ['video', 'replaced', 'musician', 'technology', '1999', 'parent', 'sea', 'greek', 'easy', 'thought', 'north', 'taken', 'meaning', 'joined', 'studied', 'camp', 'river', 'december', 'set', 'reagan']\n",
      "Topic # 17 :  ['country', 'album', 'year', 'american', 'song', 'queen', 'born', 'area', 'people', 'number', 'war', 'new', 'called', 'industry', 'elizabeth', 'music', 'united', 'al', 'biggest', 'oil']\n",
      "Topic # 18 :  ['woman', 'men', 'man', 'sex', 'penis', 'sexual', 'abortion', 'male', 'female', 'called', 'birth', 'baby', 'body', 'usually', 'having', 'blood', 'feel', 'inside', 'right', 'cause']\n",
      "Topic # 19 :  ['caused', 'disorder', 'form', 'particle', 'air', 'small', 'seen', 'volcano', 'invented', 'type', 'disease', 'national', 'english', 'common', 'word', 'long', 'time', 'president', 'crime', 'life']\n",
      "Topic # 20 :  ['year', '30', 'known', 'common', 'calendar', 'time', 'century', 'starting', 'capital', '22', 'wanted', 'billion', 'jackson', 'record', '2014', 'office', 'governor', 'glass', 'election', 'past']\n",
      "Topic # 21 :  ['music', 'band', 'song', 'album', 'rock', 'called', 'instrument', 'popular', 'record', 'guitar', 'musician', 'singer', 'play', 'played', 'bass', 'musical', 'group', 'dance', 'piano', 'new']\n",
      "Topic # 22 :  ['ring', 'continued', 'invented', 'new', 'began', 'longer', 'light', 'work', 'married', 'mother', 'sound', 'year', 'week', 'old', 'moved', 'company', 'hour', 'electric', 'port', 'home']\n",
      "Topic # 23 :  ['island', 'river', 'mountain', 'lake', 'ship', 'british', 'land', 'mount', 'volcano', '000', 'ocean', 'area', 'flow', 'called', 'long', 'km', 'large', 'sea', 'highest', 'largest']\n",
      "Topic # 24 :  ['city', 'people', 'area', 'capital', '000', 'new', 'largest', 'population', 'called', 'river', 'live', 'world', 'famous', 'important', 'center', 'york', 'place', 'biggest', 'home', 'near']\n",
      "Topic # 25 :  ['color', 'white', 'red', 'blue', 'green', 'brown', 'colour', 'light', 'hair', 'black', 'dark', 'seen', 'like', 'gene', 'appear', 'left', 'similar', 'called', 'leaf', 'turn']\n",
      "Topic # 26 :  ['mercury', 'compound', 'metal', 'ii', 'known', 'element', 'common', 'mineral', 'liquid', 'water', 'china', 'like', 'use', 'state', 'country', 'child', 'light', 'nature', 'main', 'cause']\n",
      "Topic # 27 :  ['metal', 'compound', 'copper', 'salt', 'iron', 'element', 'acid', 'mineral', 'chemical', 'drink', 'liquid', 'lead', 'glass', 'solid', 'form', 'common', 'milk', 'making', 'water', 'strong']\n",
      "Topic # 28 :  ['john', 'train', 'held', 'england', 'king', 'henry', 'english', 'french', 'line', 'ii', 'church', 'france', 'land', 'year', 'new', 'brother', 'forced', 'support', 'son', 'speed']\n",
      "Topic # 29 :  ['worker', 'class', 'social', 'power', 'society', 'work', 'working', 'revolution', 'good', 'political', 'economy', 'economic', 'factory', 'production', 'communist', 'value', 'capital', 'produce', 'change', 'state']\n",
      "Topic # 30 :  ['king', 'year', 'wife', 'job', 'john', 'london', 'called', 'europe', 'english', 'royal', '25', 'writer', 'work', 'small', 'october', 'famous', '12', 'known', 'written', 'given']\n",
      "Topic # 31 :  ['france', 'king', 'henry', 'england', 'french', 'william', 'italy', 'pope', 'dutch', 'louis', 'netherlands', 'jane', 'italian', 'english', 'died', 'paris', 'ii', 'rome', 'roman', 'paul']\n",
      "Topic # 32 :  ['town', 'county', 'london', 'england', 'christmas', 'street', 'south', 'village', 'place', 'west', 'east', 'new', 'district', 'council', 'main', 'hill', 'market', 'old', 'near', 'english']\n",
      "Topic # 33 :  ['science', 'theory', 'method', 'scientific', 'scientist', 'knowledge', 'question', 'field', 'philosopher', 'test', 'real', 'true', 'data', 'area', 'possible', 'kind', 'paul', 'work', 'step', 'famous']\n",
      "Topic # 34 :  ['city', 'known', 'centre', 'east', 'like', 'museum', 'student', 'mean', 'state', 'india', 'people', 'place', 'great', 'famous', 'center', 'come', 'metal', 'industry', 'education', 'national']\n",
      "Topic # 35 :  ['mercury', 'compound', 'metal', 'ii', 'liquid', 'known', 'form', 'mineral', 'state', 'use', 'common', 'element', 'making', 'easily', 'china', 'water', 'country', 'oxygen', 'pressure', 'blood']\n",
      "Topic # 36 :  ['people', 'thing', 'called', 'way', 'different', 'person', 'law', 'like', 'example', 'think', 'human', 'usually', 'right', 'help', 'group', 'want', 'good', 'country', 'idea', 'use']\n",
      "Topic # 37 :  ['like', 'make', 'sound', 'example', 'english', 'letter', 'fourth', 'alphabet', 'word', 'number', 'beginning', '24', 'russian', 'little', 'emperor', '2009', 'helped', 'march', 'said', 'california']\n",
      "Topic # 38 :  ['mercury', '21', 'july', 'metal', 'compound', 'ii', 'liquid', 'common', 'china', 'known', 'mineral', 'certain', 'state', 'easily', 'use', 'oxygen', 'element', 'year', 'heavy', 'complex']\n",
      "Topic # 39 :  ['bacteria', 'cell', 'organism', 'human', 'shape', 'body', 'food', 'kind', 'inside', 'war', 'live', 'united', 'area', 'based', 'al', 'help', 'known', 'country', 'virus', 'italian']\n",
      "Topic # 40 :  ['country', 'people', 'china', 'region', 'india', 'republic', 'city', 'world', 'population', 'capital', 'area', 'largest', 'state', 'province', 'east', 'language', 'government', 'national', 'south', 'century']\n",
      "Topic # 41 :  ['president', 'party', 'reagan', 'election', 'bush', 'washington', 'state', 'elected', 'vote', 'virginia', 'government', 'united', 'office', 'republican', 'governor', 'political', 'democratic', 'term', 'george', 'national']\n",
      "Topic # 42 :  ['electron', 'lot', 'born', 'song', 'charge', 'called', 'object', 'state', 'actually', 'atom', 'known', 'effect', 'august', '12', 'hit', 'talk', 'title', 'washington', 'popular', 'best']\n",
      "Topic # 43 :  ['energy', 'unit', 'atom', 'electron', 'object', 'reaction', 'chemical', 'molecule', 'particle', 'called', 'electricity', 'mass', 'matter', 'equation', 'hydrogen', 'charge', 'electric', 'element', 'physic', 'form']\n",
      "Topic # 44 :  ['traditional', 'star', 'list', 'look', 'international', 'latin', 'brown', 'grew', 'park', '26', 'commonly', 'machine', 'active', 'property', '29', 'louis', 'main', '1970s', 'belief', 'paper']\n",
      "Topic # 45 :  ['state', 'united', 'american', 'nation', 'new', 'america', 'slave', 'government', 'war', 'civil', 'national', 'world', 'cuba', 'country', 'union', 'canada', 'peace', 'kingdom', 'international', 'right']\n",
      "Topic # 46 :  ['anne', 'short', 'war', 'gun', 'family', 'men', 'germany', 'jewish', 'soldier', 'world', 'year', 'nazi', 'machine', 'place', 'like', 'wrote', 'people', 'german', 'number', 'battle']\n",
      "Topic # 47 :  ['september', 'george', 'henry', 'people', 'king', 'england', 'saint', 'france', 'child', 'daughter', 'mary', 'city', 'charles', 'st', 'york', 'lake', 'sister', 'music', 'married', 'day']\n",
      "Topic # 48 :  ['california', 'weapon', 'san', 'gun', 'police', 'bridge', 'machine', 'carry', 'use', 'heavy', 'hit', 'kill', 'fast', 'military', 'soldier', 'famous', 'war', 'fly', 'man', 'include']\n",
      "Topic # 49 :  ['st', 'saint', 'george', 'russia', '22', 'russian', 'october', 'wear', 'day', 'people', 'mary', '23', 'organ', 'church', 'ii', 'april', 'lake', 'king', 'according', 'uk']\n",
      "Topic # 50 :  ['heat', 'happens', 'district', 'eye', 'world', 'sell', 'make', 'live', 'week', 'feel', 'christmas', 'family', 'slave', 'small', 'control', 'cover', 'market', 'iron', 'war', 'mile']\n",
      "Topic # 51 :  ['number', 'letter', 'example', 'written', 'called', 'sentence', 'different', 'word', 'form', 'alphabet', 'verb', 'english', 'way', 'write', 'order', 'writing', 'value', 'use', 'time', 'real']\n",
      "Topic # 52 :  ['president', 'died', 'king', 'john', 'called', 'party', 'sent', 'new', 'studied', 'english', 'work', 'london', '12', 'year', 'book', 'skin', 'mary', 'small', 'story', 'death']\n",
      "Topic # 53 :  ['time', 'called', 'light', 'different', 'use', 'like', 'thing', 'wave', 'work', 'hand', 'point', 'usually', 'speed', 'picture', 'idea', 'change', 'small', 'second', 'theory', 'way']\n",
      "Topic # 54 :  ['heart', 'july', '10', 'born', 'best', '18', 'biggest', 'known', 'died', 'american', 'actor', '30', 'movie', '20', '2004', 'disease', 'album', 'singer', 'song', 'hot']\n",
      "Topic # 55 :  ['queen', 'prince', 'elizabeth', 'light', 'country', 'people', 'particle', 'king', 'hole', 'called', 'ii', 'idea', 'visit', 'kingdom', 'british', 'year', 'born', 'minister', 'event', 'black']\n",
      "Topic # 56 :  ['hole', 'light', 'black', 'time', 'universe', 'called', 'particle', 'idea', 'theory', 'country', 'force', 'star', 'event', 'speed', 'example', 'wave', 'different', 'history', 'movie', 'mass']\n",
      "Topic # 57 :  ['building', 'art', 'built', 'wall', 'stone', 'material', 'house', 'painting', 'tower', 'wood', 'style', 'castle', 'like', 'design', 'foot', 'steel', 'site', 'usually', 'place', 'long']\n",
      "Topic # 58 :  ['computer', 'program', 'user', 'use', 'window', 'software', 'data', 'operating', 'drive', 'microsoft', 'code', 'information', 'device', 'called', 'version', 'internet', 'page', 'like', 'machine', 'free']\n",
      "Topic # 59 :  ['band', 'blue', 'movie', 'member', 'current', 'single', 'known', 'song', 'album', 'tv', 'long', 'formed', '26', 'stand', 'group', 'jackson', 'probably', 'original', 'rock', 'best']\n",
      "Topic # 60 :  ['water', 'gas', 'air', 'temperature', 'carbon', 'oxygen', 'ice', 'called', 'cause', 'oil', 'use', 'like', 'pressure', 'change', 'natural', 'chemical', 'cancer', 'heat', 'thing', 'dioxide']\n",
      "Topic # 61 :  ['20', 'robert', 'mark', 'steel', 'commonly', 'october', 'originally', '2004', 'single', '2000', 'born', 'time', 'actor', 'band', 'june', 'american', 'success', 'march', 'family', 'boy']\n",
      "Topic # 62 :  ['god', 'ring', 'tree', 'come', 'earth', 'story', 'king', 'tell', 'world', 'lord', 'branch', 'left', 'saw', 'told', 'said', 'religion', 'people', 'care', 'named', 'end']\n",
      "Topic # 63 :  ['nazi', 'germany', 'church', 'president', 'german', 'state', 'war', 'like', 'people', 'united', 'idea', 'soviet', 'government', 'leader', 'union', 'party', 'catholic', 'empire', 'power', 'wanted']\n",
      "Topic # 64 :  ['queen', 'elizabeth', 'prince', 'king', 'egypt', 'kingdom', 'country', 'time', 'called', 'year', 'people', 'royal', 'ruled', 'united', 'god', 'ii', 'state', 'british', 'born', 'father']\n",
      "Topic # 65 :  ['language', 'english', 'latin', 'spoken', 'esperanto', 'speak', 'chinese', 'french', 'people', 'spanish', 'like', 'sound', 'learn', 'italian', 'use', 'portuguese', 'character', 'second', 'different', 'common']\n",
      "Topic # 66 :  ['plant', 'water', 'tree', 'air', 'rain', 'leaf', 'summer', 'winter', 'place', 'desert', 'dry', 'grow', 'soil', 'snow', 'cold', 'land', 'flower', 'forest', 'ground', 'season']\n",
      "Topic # 67 :  ['game', 'player', 'mario', 'olympic', 'sport', 'ball', 'play', 'video', 'called', 'team', 'played', 'character', 'boy', 'point', 'playing', 'run', 'time', 'win', 'field', 'event']\n",
      "Topic # 68 :  ['black', 'particle', 'hole', 'thing', 'star', 'wave', 'light', 'point', 'universe', 'history', 'matter', 'book', 'theory', 'idea', 'event', 'like', 'medium', 'person', 'average', 'scientist']\n",
      "Topic # 69 :  ['line', 'japan', 'japanese', 'station', 'train', 'network', 'travel', 'airport', 'minute', 'speed', 'circle', 'run', 'called', '60', 'second', 'time', 'car', 'international', 'hour', 'billion']\n",
      "Topic # 70 :  ['university', 'school', 'study', 'student', 'college', 'degree', 'education', 'subject', 'research', 'work', 'hospital', 'public', 'science', 'learn', 'medical', 'general', 'studied', 'job', 'higher', 'level']\n",
      "Topic # 71 :  ['war', 'country', 'germany', 'union', 'government', 'army', 'german', 'people', 'world', 'soviet', 'force', 'military', 'power', 'ii', 'empire', 'called', 'soldier', 'leader', 'battle', 'state']\n",
      "Topic # 72 :  ['died', 'family', 'year', 'later', 'father', 'time', 'death', 'life', 'said', 'went', 'child', 'born', 'wife', 'mother', 'work', 'friend', 'worked', 'thought', 'son', 'married']\n",
      "Topic # 73 :  ['animal', 'cell', 'food', 'body', 'called', 'specie', 'blood', 'human', 'plant', 'fish', 'different', 'like', 'type', 'skin', 'eat', 'living', 'kind', 'shark', 'fruit', 'life']\n",
      "Topic # 74 :  ['person', 'head', 'example', 'object', 'end', 'foot', 'highest', 'people', 'distance', 'living', 'disorder', 'kill', 'medical', 'job', 'drug', 'ship', 'gun', 'second', 'symptom', 'condition']\n",
      "Topic # 75 :  ['bird', 'female', 'male', 'live', 'egg', 'dog', 'wing', 'cat', 'year', 'insect', 'called', 'teeth', 'eat', 'adult', 'baby', 'like', 'fly', 'long', 'mother', 'group']\n",
      "Topic # 76 :  ['movie', 'released', 'born', 'american', 'album', 'award', 'television', 'new', 'best', 'series', 'jackson', 'single', 'known', 'won', 'million', '2005', 'year', 'time', 'actor', '2006']\n",
      "Topic # 77 :  ['lead', 'ii', 'compound', 'metal', 'chemical', 'state', 'acid', 'white', 'known', 'animal', 'different', 'water', 'use', 'normally', 'soft', 'common', 'ground', 'mineral', 'added', 'easy']\n",
      "Topic # 78 :  ['important', 'right', 'born', 'greek', 'little', 'number', 'group', 'called', 'famous', 'philosopher', 'believed', 'life', 'said', 'equal', 'rule', 'length', 'theory', 'term', 'great', 'like']\n",
      "Topic # 79 :  ['earth', 'star', 'planet', 'sun', 'space', 'moon', 'universe', 'solar', 'orbit', 'time', 'light', 'mercury', 'called', 'year', 'ring', 'atmosphere', 'mass', 'like', 'discovered', 'object']\n",
      "Topic # 80 :  ['black', 'hole', 'star', 'light', 'called', 'like', 'music', 'series', 'movie', 'mass', 'event', 'later', 'band', 'television', 'tower', 'record', 'way', 'thing', 'use', 'people']\n",
      "Topic # 81 :  ['25', 'august', 'president', 'party', 'united', 'state', 'later', 'thought', 'milk', 'muslim', 'died', 'forest', 'oxygen', 'new', 'election', 'sex', 'republican', 'player', 'sign', 'region']\n",
      "Topic # 82 :  ['football', 'club', 'league', 'team', 'cup', 'season', 'won', 'english', 'played', 'park', 'play', 'division', 'time', 'home', 'national', 'world', 'called', 'final', 'second', 'united']\n",
      "Topic # 83 :  ['greek', 'greece', 'square', 'capital', 'area', 'mile', 'surface', 'contains', 'island', 'land', '2001', 'total', 'large', 'philosopher', 'city', 'olympic', 'seven', 'oldest', 'east', '10']\n",
      "Topic # 84 :  ['black', 'hole', 'event', 'fall', 'middle', 'matter', 'mass', 'area', 'center', 'near', 'light', 'huge', 'hit', 'happens', 'faster', 'high', 'served', 'away', 'far', 'central']\n",
      "Topic # 85 :  ['south', 'north', 'america', 'africa', 'australia', 'spain', 'spanish', 'country', 'europe', 'world', 'east', 'west', 'central', 'asia', 'continent', 'southern', 'korea', 'ocean', 'atlantic', 'people']\n",
      "Topic # 86 :  ['industry', 'force', 'education', 'room', 'produced', 'face', 'oxygen', 'beginning', '31', 'general', '19', 'studied', 'queen', 'july', 'spoken', 'design', 'town', 'canada', 'san', 'beach']\n",
      "Topic # 87 :  ['000', 'family', 'job', 'non', 'considered', 'religious', 'beach', 'level', 'hot', 'morocco', '20th', 'split', 'major', 'taken', 'sold', 'feel', '28', 'south', '2009', 'animal']\n",
      "Topic # 88 :  ['nazi', 'german', 'church', 'germany', 'like', 'war', 'soviet', 'people', 'united', 'power', 'idea', 'took', 'union', 'government', 'france', 'state', 'leader', 'jew', 'catholic', 'army']\n",
      "Topic # 89 :  ['child', 'school', 'ireland', 'age', 'actor', 'born', 'high', 'parent', 'role', 'james', 'boy', 'married', 'adult', 'stage', 'northern', 'english', '14', 'girl', '17', '16']\n",
      "Topic # 90 :  ['anne', 'sister', 'daughter', 'jewish', 'netherlands', 'nazi', 'happen', 'family', 'place', 'jane', 'began', 'true', 'war', 'read', 'june', 'year', 'wrote', 'germany', 'child', 'january']\n",
      "Topic # 91 :  ['egypt', 'king', 'time', 'ancient', 'ruled', 'list', 'kingdom', 'queen', 'new', 'mean', 'half', 'lower', 'called', 'history', 'word', 'believed', 'magazine', 'later', 'united', 'human']\n",
      "Topic # 92 :  ['democratic', 'died', 'piece', 'popular', 'discovered', 'won', 'spoken', 'atlantic', 'male', 'build', 'enemy', '20th', 'class', 'travel', '21', 'shown', 'level', 'region', 'ruled', 'problem']\n",
      "Topic # 93 :  ['symbol', 'sign', 'shape', 'certain', 'object', 'country', 'known', 'letter', 'thousand', 'national', 'world', 'best', 'region', 'power', 'christianity', 'religion', 'team', 'called', 'sound', 'star']\n",
      "Topic # 94 :  ['church', 'christian', 'religion', 'catholic', 'jesus', 'believe', 'bible', 'belief', 'called', 'lord', 'religious', 'roman', 'christianity', 'jew', 'jewish', 'holy', 'day', 'tradition', 'eastern', 'new']\n",
      "Topic # 95 :  ['traditional', 'past', 'day', 'vote', 'produced', 'effect', 'fourth', 'history', 'port', 'forest', 'early', 'order', 'mosque', 'discovered', 'lake', 'italian', 'business', 'court', 'present', 'school']\n",
      "Topic # 96 :  ['month', 'water', 'died', 'military', 'reaction', 'make', 'desert', 'lower', 'april', 'include', 'young', 'town', 'planet', 'germany', 'italy', 'appeared', 'mexico', 'source', 'sun', 'non']\n",
      "Topic # 97 :  ['gold', 'question', 'meant', 'break', 'reach', 'stay', 'olympic', 'image', 'mario', 'state', 'probably', 'republican', 'virginia', 'eventually', 'told', 'start', 'appear', 'starting', 'cell', 'province']\n",
      "Topic # 98 :  ['royal', 'boat', 'asked', 'service', 'soft', 'nuclear', 'battle', 'hold', 'eye', 'father', 'dutch', 'south', 'female', 'fourth', '15', 'province', 'distance', 'level', 'question', 'device']\n",
      "Topic # 99 :  ['book', 'called', 'july', 'child', 'moved', 'school', 'robert', 'version', 'stone', 'buy', '31', 'born', 'world', 'written', 'series', 'married', 'published', 'second', 'british', 'store']\n"
     ]
    },
    {
     "ename": "FileNotFoundError",
     "evalue": "[Errno 2] No such file or directory: './results/lda_topics.merged.csv'",
     "output_type": "error",
     "traceback": [
      "\u001b[0;31m---------------------------------------------------------------------------\u001b[0m",
      "\u001b[0;31mFileNotFoundError\u001b[0m                         Traceback (most recent call last)",
      "\u001b[0;32m<ipython-input-7-c33645295018>\u001b[0m in \u001b[0;36m<module>\u001b[0;34m\u001b[0m\n\u001b[1;32m      1\u001b[0m \u001b[0mlda_topics_df\u001b[0m \u001b[0;34m=\u001b[0m \u001b[0mlda_modeling\u001b[0m\u001b[0;34m.\u001b[0m\u001b[0mcreate_topics_df\u001b[0m\u001b[0;34m(\u001b[0m\u001b[0;34m)\u001b[0m\u001b[0;34m\u001b[0m\u001b[0;34m\u001b[0m\u001b[0m\n\u001b[0;32m----> 2\u001b[0;31m \u001b[0mlda_topics_df\u001b[0m\u001b[0;34m.\u001b[0m\u001b[0mto_csv\u001b[0m\u001b[0;34m(\u001b[0m\u001b[0;34m'./results/lda_topics.merged.csv'\u001b[0m\u001b[0;34m)\u001b[0m\u001b[0;34m\u001b[0m\u001b[0;34m\u001b[0m\u001b[0m\n\u001b[0m",
      "\u001b[0;32m~/anaconda3/envs/amber/lib/python3.6/site-packages/pandas/core/generic.py\u001b[0m in \u001b[0;36mto_csv\u001b[0;34m(self, path_or_buf, sep, na_rep, float_format, columns, header, index, index_label, mode, encoding, compression, quoting, quotechar, line_terminator, chunksize, tupleize_cols, date_format, doublequote, escapechar, decimal)\u001b[0m\n\u001b[1;32m   3018\u001b[0m                                  \u001b[0mdoublequote\u001b[0m\u001b[0;34m=\u001b[0m\u001b[0mdoublequote\u001b[0m\u001b[0;34m,\u001b[0m\u001b[0;34m\u001b[0m\u001b[0;34m\u001b[0m\u001b[0m\n\u001b[1;32m   3019\u001b[0m                                  escapechar=escapechar, decimal=decimal)\n\u001b[0;32m-> 3020\u001b[0;31m         \u001b[0mformatter\u001b[0m\u001b[0;34m.\u001b[0m\u001b[0msave\u001b[0m\u001b[0;34m(\u001b[0m\u001b[0;34m)\u001b[0m\u001b[0;34m\u001b[0m\u001b[0;34m\u001b[0m\u001b[0m\n\u001b[0m\u001b[1;32m   3021\u001b[0m \u001b[0;34m\u001b[0m\u001b[0m\n\u001b[1;32m   3022\u001b[0m         \u001b[0;32mif\u001b[0m \u001b[0mpath_or_buf\u001b[0m \u001b[0;32mis\u001b[0m \u001b[0;32mNone\u001b[0m\u001b[0;34m:\u001b[0m\u001b[0;34m\u001b[0m\u001b[0;34m\u001b[0m\u001b[0m\n",
      "\u001b[0;32m~/anaconda3/envs/amber/lib/python3.6/site-packages/pandas/io/formats/csvs.py\u001b[0m in \u001b[0;36msave\u001b[0;34m(self)\u001b[0m\n\u001b[1;32m    155\u001b[0m             f, handles = _get_handle(self.path_or_buf, self.mode,\n\u001b[1;32m    156\u001b[0m                                      \u001b[0mencoding\u001b[0m\u001b[0;34m=\u001b[0m\u001b[0mself\u001b[0m\u001b[0;34m.\u001b[0m\u001b[0mencoding\u001b[0m\u001b[0;34m,\u001b[0m\u001b[0;34m\u001b[0m\u001b[0;34m\u001b[0m\u001b[0m\n\u001b[0;32m--> 157\u001b[0;31m                                      compression=self.compression)\n\u001b[0m\u001b[1;32m    158\u001b[0m             \u001b[0mclose\u001b[0m \u001b[0;34m=\u001b[0m \u001b[0;32mTrue\u001b[0m\u001b[0;34m\u001b[0m\u001b[0;34m\u001b[0m\u001b[0m\n\u001b[1;32m    159\u001b[0m \u001b[0;34m\u001b[0m\u001b[0m\n",
      "\u001b[0;32m~/anaconda3/envs/amber/lib/python3.6/site-packages/pandas/io/common.py\u001b[0m in \u001b[0;36m_get_handle\u001b[0;34m(path_or_buf, mode, encoding, compression, memory_map, is_text)\u001b[0m\n\u001b[1;32m    422\u001b[0m         \u001b[0;32melif\u001b[0m \u001b[0mencoding\u001b[0m\u001b[0;34m:\u001b[0m\u001b[0;34m\u001b[0m\u001b[0;34m\u001b[0m\u001b[0m\n\u001b[1;32m    423\u001b[0m             \u001b[0;31m# Python 3 and encoding\u001b[0m\u001b[0;34m\u001b[0m\u001b[0;34m\u001b[0m\u001b[0;34m\u001b[0m\u001b[0m\n\u001b[0;32m--> 424\u001b[0;31m             \u001b[0mf\u001b[0m \u001b[0;34m=\u001b[0m \u001b[0mopen\u001b[0m\u001b[0;34m(\u001b[0m\u001b[0mpath_or_buf\u001b[0m\u001b[0;34m,\u001b[0m \u001b[0mmode\u001b[0m\u001b[0;34m,\u001b[0m \u001b[0mencoding\u001b[0m\u001b[0;34m=\u001b[0m\u001b[0mencoding\u001b[0m\u001b[0;34m,\u001b[0m \u001b[0mnewline\u001b[0m\u001b[0;34m=\u001b[0m\u001b[0;34m\"\"\u001b[0m\u001b[0;34m)\u001b[0m\u001b[0;34m\u001b[0m\u001b[0;34m\u001b[0m\u001b[0m\n\u001b[0m\u001b[1;32m    425\u001b[0m         \u001b[0;32melif\u001b[0m \u001b[0mis_text\u001b[0m\u001b[0;34m:\u001b[0m\u001b[0;34m\u001b[0m\u001b[0;34m\u001b[0m\u001b[0m\n\u001b[1;32m    426\u001b[0m             \u001b[0;31m# Python 3 and no explicit encoding\u001b[0m\u001b[0;34m\u001b[0m\u001b[0;34m\u001b[0m\u001b[0;34m\u001b[0m\u001b[0m\n",
      "\u001b[0;31mFileNotFoundError\u001b[0m: [Errno 2] No such file or directory: './results/lda_topics.merged.csv'"
     ]
    }
   ],
   "source": [
    "lda_topics_df = lda_modeling.create_topics_df()\n",
    "lda_topics_df.to_csv('./results/lda_topics.merged.csv')"
   ]
  },
  {
   "cell_type": "code",
   "execution_count": 8,
   "metadata": {},
   "outputs": [
    {
     "name": "stdout",
     "output_type": "stream",
     "text": [
      "Topic # 0 :  ['people', 'called', 'country', 'state', 'year', 'time', 'like', 'world', 'city', 'different', 'united', 'reagan', 'new', 'war', 'language', 'government', 'day', 'use', 'known', 'group']\n",
      "Topic # 1 :  ['reagan', 'president', 'state', 'united', 'war', 'american', 'republican', 'movie', 'bush', 'union', 'election', 'government', 'said', 'soviet', 'national', 'california', 'vote', 'party', 'later', 'actor']\n",
      "Topic # 2 :  ['reagan', 'bird', 'album', 'music', 'mario', 'time', 'jackson', 'called', 'game', 'like', 'song', 'band', 'number', 'released', 'movie', 'light', 'different', 'thing', 'computer', 'energy']\n",
      "Topic # 3 :  ['game', 'mario', 'album', 'player', 'olympic', 'jackson', 'city', 'released', 'team', 'year', 'series', 'band', 'music', 'country', 'video', 'song', 'new', 'sport', 'play', 'world']\n",
      "Topic # 4 :  ['album', 'jackson', 'music', 'band', 'song', 'released', 'year', 'single', 'new', 'award', 'rock', 'record', 'tour', 'michael', 'day', 'won', 'best', 'million', 'king', 'hit']\n",
      "Topic # 5 :  ['bird', 'specie', 'tree', 'egg', 'year', 'water', 'wing', 'fly', 'food', 'north', 'city', 'large', 'colour', 'morocco', 'like', 'south', 'land', 'small', 'area', 'male']\n",
      "Topic # 6 :  ['bird', 'abortion', 'woman', 'people', 'jackson', 'mario', 'album', 'song', 'week', 'game', 'egg', 'male', 'released', 'country', 'child', 'penis', 'legal', 'doctor', 'united', 'wing']\n",
      "Topic # 7 :  ['abortion', 'woman', 'earth', 'year', 'light', 'state', 'energy', 'universe', 'star', 'planet', 'theory', 'particle', 'doctor', 'time', 'week', 'penis', 'water', 'morocco', 'ring', 'space']\n",
      "Topic # 8 :  ['language', 'abortion', 'esperanto', 'number', 'english', 'woman', 'word', 'country', 'year', 'william', 'week', 'letter', 'end', 'day', 'king', 'india', 'morocco', 'england', 'bird', 'verb']\n",
      "Topic # 9 :  ['year', 'day', 'william', 'king', 'church', 'tree', 'christmas', 'mario', 'england', 'god', 'pope', 'john', 'family', 'english', 'month', 'henry', 'ring', 'queen', 'jesus', 'week']\n",
      "Topic # 10 :  ['jackson', 'mario', 'language', 'number', 'album', 'esperanto', 'released', 'world', 'single', 'earth', 'michael', 'light', 'water', 'million', 'energy', 'people', 'plant', 'country', 'tree', 'award']\n",
      "Topic # 11 :  ['tree', 'water', 'plant', 'music', 'earth', 'soil', 'rock', 'city', 'abortion', 'language', 'reagan', 'animal', 'year', 'air', 'live', 'band', 'forest', 'oxygen', 'leaf', 'specie']\n",
      "Topic # 12 :  ['mario', 'music', 'state', 'band', 'abortion', 'rock', 'like', 'william', 'war', 'instrument', 'song', 'north', 'power', 'king', 'language', 'morocco', 'composer', 'word', 'series', 'united']\n",
      "Topic # 13 :  ['number', 'mario', 'mosque', 'tree', 'morocco', 'william', 'called', 'king', 'plant', 'church', 'england', 'symbol', 'natural', 'muslim', 'example', 'written', 'penis', 'reagan', 'usually', 'water']\n",
      "Topic # 14 :  ['city', 'jackson', 'mosque', 'william', 'english', 'king', 'england', 'called', 'reagan', 'language', 'church', 'penis', 'building', 'woman', 'town', 'abortion', 'river', 'built', 'place', 'large']\n",
      "Topic # 15 :  ['country', 'morocco', 'jackson', 'player', 'north', 'mosque', 'korea', 'called', 'south', 'game', 'team', 'tree', 'king', 'penis', 'government', 'william', 'music', 'reagan', 'romania', 'war']\n",
      "Topic # 16 :  ['mosque', 'muslim', 'country', 'reagan', 'year', 'morocco', 'city', 'music', 'universe', 'day', 'light', 'theory', 'century', 'particle', 'romania', 'energy', 'mario', 'islam', 'world', 'people']\n",
      "Topic # 17 :  ['mosque', 'state', 'united', 'muslim', 'esperanto', 'penis', 'president', 'day', 'language', 'computer', 'word', 'american', 'usually', 'bush', 'men', 'use', 'tree', 'player', 'washington', 'english']\n",
      "Topic # 18 :  ['computer', 'tree', 'jackson', 'abortion', 'program', 'church', 'window', 'apple', 'drive', 'machine', 'music', 'christmas', 'use', 'state', 'device', 'user', 'data', 'like', 'thing', 'operating']\n",
      "Topic # 19 :  ['tree', 'christmas', 'church', 'state', 'light', 'theory', 'particle', 'leaf', 'universe', 'god', 'plant', 'energy', 'music', 'family', 'specie', 'idea', 'branch', 'string', 'word', 'united']\n",
      "Topic # 20 :  ['penis', 'morocco', 'man', 'blood', 'city', 'year', 'body', 'cell', 'men', 'music', 'theory', 'sex', 'language', 'string', 'cancer', 'state', 'romania', 'evolution', 'woman', 'specie']\n",
      "Topic # 21 :  ['jackson', 'music', 'number', 'earth', 'called', 'church', 'god', 'state', 'planet', 'penis', 'instrument', 'sun', 'air', 'composer', 'moon', 'water', 'day', 'gas', 'president', 'ring']\n",
      "Topic # 22 :  ['morocco', 'william', 'music', 'year', 'king', 'jackson', 'people', 'english', 'person', 'spain', 'spanish', 'state', 'north', 'disorder', 'doctor', 'region', 'western', 'symptom', 'mosque', 'universe']\n",
      "Topic # 23 :  ['romania', 'war', 'mosque', 'music', 'esperanto', 'evolution', 'group', 'german', 'william', 'germany', 'army', 'specie', 'world', 'soviet', 'olympic', 'union', 'game', 'empire', 'plant', 'animal']\n",
      "Topic # 24 :  ['tree', 'doctor', 'time', 'movie', 'penis', 'team', 'player', 'ring', 'mosque', 'series', 'music', 'war', 'china', 'world', 'play', 'planet', 'lord', 'played', 'ball', 'mario']\n",
      "Topic # 25 :  ['morocco', 'player', 'team', 'church', 'romania', 'god', 'western', 'spain', 'spanish', 'ball', 'mountain', 'state', 'german', 'esperanto', 'christmas', 'power', '000', 'region', 'play', 'earth']\n",
      "Topic # 26 :  ['tree', 'penis', 'ring', 'olympic', 'game', 'morocco', 'number', 'computer', 'planet', 'earth', 'people', 'men', 'esperanto', 'william', 'man', 'woman', 'bird', 'moon', 'king', 'sun']\n",
      "Topic # 27 :  ['doctor', 'time', 'god', 'movie', 'olympic', 'evolution', 'lord', 'church', 'planet', 'specie', 'life', 'series', 'group', 'new', 'game', 'human', 'believe', 'earth', 'idea', 'korea']\n",
      "Topic # 28 :  ['doctor', 'cell', 'christmas', 'cancer', 'country', 'time', 'water', 'soil', 'different', 'metal', 'olympic', 'type', 'copper', 'blood', 'air', 'church', 'treatment', 'chemical', 'disease', 'energy']\n",
      "Topic # 29 :  ['esperanto', 'korea', 'north', 'city', 'god', 'south', 'cell', 'william', 'player', 'day', 'reagan', 'morocco', 'german', 'church', 'doctor', 'war', 'army', 'cancer', 'japan', 'soldier']\n",
      "Topic # 30 :  ['esperanto', 'movie', 'soil', 'morocco', 'shark', 'water', 'plant', 'german', 'light', 'war', 'australia', 'cat', 'christmas', 'germany', 'use', 'live', 'camp', 'people', 'world', 'film']\n",
      "Topic # 31 :  ['movie', 'cell', 'romania', 'korea', 'star', 'north', 'called', 'cancer', 'color', 'word', 'light', 'work', 'film', 'virus', 'tree', 'metal', 'city', 'chemical', 'award', 'year']\n",
      "Topic # 32 :  ['romania', 'movie', 'william', 'soil', 'christmas', 'word', 'english', 'north', 'state', 'verb', 'different', 'water', 'korea', 'day', 'army', 'game', 'river', 'usually', 'family', 'book']\n",
      "Topic # 33 :  ['shark', 'christmas', 'star', 'ring', 'romania', 'planet', 'specie', 'cat', 'fish', 'teeth', 'esperanto', 'family', 'window', 'evolution', 'color', 'moon', 'new', 'group', 'sun', 'church']\n",
      "Topic # 34 :  ['romania', 'soil', 'esperanto', 'queen', 'country', 'john', 'president', 'child', 'plant', 'universe', 'party', 'earth', 'henry', 'space', 'korea', 'computer', 'theory', 'elizabeth', 'team', 'north']\n",
      "Topic # 35 :  ['shark', 'god', 'romania', 'water', 'fish', 'energy', 'religion', 'doctor', 'john', 'city', 'king', 'tree', 'electron', 'esperanto', 'queen', 'pope', 'metal', 'teeth', 'movie', 'henry']\n",
      "Topic # 36 :  ['christmas', 'william', 'cell', 'esperanto', 'india', 'movie', 'country', 'god', 'new', 'day', 'tradition', 'star', 'virus', 'team', 'blood', 'music', 'jesus', 'computer', 'romania', 'family']\n",
      "Topic # 37 :  ['cat', 'ring', 'china', 'esperanto', 'dog', 'called', 'electron', 'animal', 'queen', 'house', 'player', 'band', 'energy', 'insect', 'william', 'chinese', 'lord', 'female', 'king', 'metal']\n",
      "Topic # 38 :  ['star', 'doctor', 'year', 'william', 'window', 'god', 'universe', 'called', 'player', 'state', 'penis', 'black', 'new', 'building', 'church', 'plant', 'sun', 'hole', 'light', 'style']\n",
      "Topic # 39 :  ['cat', 'god', 'cancer', 'german', 'south', 'religion', 'india', 'australia', 'word', 'star', 'british', 'ring', 'disease', 'dog', 'person', 'called', 'queen', 'treatment', 'beach', 'live']\n",
      "Topic # 40 :  ['string', 'country', 'window', 'movie', 'theory', 'esperanto', 'year', 'ring', 'guitar', 'bass', 'law', 'building', 'universe', 'field', 'australia', 'church', 'netherlands', 'common', 'england', 'style']\n",
      "Topic # 41 :  ['china', 'india', 'church', 'window', 'state', 'romania', 'chinese', 'cancer', 'building', 'soil', 'esperanto', 'theory', 'game', 'south', 'ring', 'world', 'indian', 'house', 'symptom', 'disorder']\n",
      "Topic # 42 :  ['doctor', 'light', 'color', 'electron', 'energy', 'south', 'australia', 'india', 'team', 'romania', 'lord', 'wave', 'state', 'land', 'church', 'football', 'league', 'africa', 'certain', 'river']\n",
      "Topic # 43 :  ['soil', 'ring', 'president', 'light', 'cell', 'plant', 'cancer', 'player', 'book', 'called', 'shark', 'year', 'layer', 'color', 'bush', 'lord', 'government', 'party', 'language', 'virus']\n",
      "Topic # 44 :  ['pope', 'john', 'camp', 'language', 'state', 'movie', 'ring', 'christmas', 'people', 'band', 'player', 'computer', 'paul', 'string', 'insect', 'ii', 'reagan', 'called', 'church', 'group']\n",
      "Topic # 45 :  ['india', 'president', 'star', 'indian', 'person', 'child', 'guitar', 'south', 'language', 'city', 'africa', 'black', 'river', 'bass', 'band', 'called', 'disorder', 'house', 'school', 'family']\n",
      "Topic # 46 :  ['new', 'australia', 'player', 'island', 'metal', 'south', 'color', 'string', 'guitar', 'god', 'copper', 'bass', 'land', 'queen', 'british', 'car', 'christmas', 'romania', 'black', 'jane']\n",
      "Topic # 47 :  ['player', 'country', 'german', 'john', 'light', 'pope', 'movie', 'beach', 'force', 'unit', 'color', 'day', 'person', 'cancer', 'river', 'state', 'area', 'tree', 'doctor', 'china']\n",
      "Topic # 48 :  ['star', 'law', 'cell', 'state', 'china', 'river', 'woman', 'ring', 'beach', 'word', 'called', 'public', 'reagan', 'culture', 'german', 'body', 'verb', 'team', 'john', 'lord']\n",
      "Topic # 49 :  ['soil', 'ring', 'mercury', 'cancer', 'metal', 'copper', 'compound', 'country', 'color', 'star', 'different', 'cat', 'lead', 'black', 'element', 'treatment', 'shark', 'city', 'mineral', 'ii']\n",
      "Topic # 50 :  ['president', 'john', 'pope', 'bush', 'william', 'party', 'paul', 'ring', 'color', 'verb', 'word', 'string', 'river', 'english', 'election', 'star', 'insect', 'china', 'guitar', 'elected']\n",
      "Topic # 51 :  ['cancer', 'india', 'australia', 'john', 'world', 'band', 'pope', 'thing', 'work', 'christmas', 'cat', 'house', 'south', 'player', 'earth', 'example', 'jackson', 'penis', 'started', 'electron']\n",
      "Topic # 52 :  ['color', 'apple', 'earth', 'cancer', 'black', 'string', 'india', 'guitar', 'camp', 'type', 'hair', 'red', 'bass', 'theory', 'different', 'hole', 'green', 'rock', 'air', 'car']\n",
      "Topic # 53 :  ['guitar', 'band', 'string', 'bass', 'china', 'star', 'team', 'symptom', 'australia', 'jackson', 'instrument', 'disorder', 'league', 'queen', 'person', 'football', 'ireland', 'computer', 'war', 'world']\n",
      "Topic # 54 :  ['india', 'soil', 'new', 'australia', 'planet', 'city', 'morocco', 'john', 'plant', 'shark', 'cell', 'jackson', 'law', 'rock', 'indian', 'gene', 'guitar', 'korea', 'religion', 'government']\n",
      "Topic # 55 :  ['verb', 'india', 'queen', 'insect', 'word', 'ring', 'jane', 'morocco', 'penis', 'elizabeth', 'cancer', 'president', 'universe', 'prince', 'doctor', 'river', 'china', 'day', 'example', 'people']\n",
      "Topic # 56 :  ['verb', 'word', 'apple', 'war', 'world', 'river', 'water', 'energy', 'family', 'album', 'car', 'christmas', 'symptom', 'john', 'person', 'russia', 'camp', 'usually', 'disorder', 'poland']\n",
      "Topic # 57 :  ['verb', 'band', 'rock', 'cell', 'universe', 'jackson', 'black', 'virus', 'esperanto', 'mountain', 'river', 'word', 'form', 'australia', 'china', 'example', 'symptom', 'person', 'past', 'time']\n",
      "Topic # 58 :  ['island', 'woman', 'cuba', 'church', 'child', 'cancer', 'school', 'energy', 'united', 'camp', 'group', 'apple', 'president', 'weapon', 'nuclear', 'insect', 'american', 'public', 'culture', 'america']\n",
      "Topic # 59 :  ['australia', 'player', 'light', 'mercury', 'universe', 'cell', 'album', 'god', 'woman', 'house', 'verb', 'computer', 'poland', 'drive', 'bush', 'war', 'single', 'land', 'virus', 'child']\n",
      "Topic # 60 :  ['river', 'apple', 'netherlands', 'band', 'dutch', 'energy', 'color', 'president', 'language', 'henry', 'universe', 'electron', 'new', 'poland', 'rock', 'star', 'child', 'gene', 'cancer', 'bush']\n",
      "Topic # 61 :  ['insect', 'mercury', 'australia', 'apple', 'god', 'band', 'called', 'house', 'language', 'black', 'child', 'hole', 'like', 'family', 'john', 'eat', 'land', 'city', 'food', 'live']\n",
      "Topic # 62 :  ['mercury', 'netherlands', 'tropical', 'insect', 'dutch', 'new', 'car', 'planet', 'word', 'list', 'church', 'henry', 'soil', 'band', 'slave', 'national', 'moon', 'south', 'plant', 'light']\n",
      "Topic # 63 :  ['universe', 'car', 'band', 'apple', 'model', 'word', 'ireland', 'engine', 'space', 'use', 'matter', 'drive', 'money', 'company', 'energy', 'built', 'scotland', 'line', 'jackson', 'abortion']\n",
      "Topic # 64 :  ['netherlands', 'house', 'john', 'god', 'nuclear', 'weapon', 'dutch', 'united', 'romania', 'evolution', 'built', 'building', 'river', 'cuba', 'place', 'country', 'english', 'town', 'scotland', 'esperanto']\n",
      "Topic # 65 :  ['color', 'insect', 'car', 'nuclear', 'weapon', 'model', 'called', 'drive', 'new', 'church', 'engine', 'island', 'hair', 'oxygen', 'universe', 'greece', 'theory', 'like', 'gas', 'data']\n",
      "Topic # 66 :  ['camp', 'river', 'mercury', 'planet', 'car', 'government', 'william', 'queen', 'australia', 'language', 'field', 'theory', 'drive', 'object', 'color', 'god', 'model', 'day', 'washington', 'nazi']\n",
      "Topic # 67 :  ['camp', 'universe', 'river', 'government', 'island', 'window', 'color', 'word', 'party', 'group', 'light', 'john', 'house', 'guitar', 'law', 'netherlands', 'cuba', 'henry', 'american', 'india']\n",
      "Topic # 68 :  ['new', 'river', 'called', 'poland', 'york', 'ireland', 'light', 'germany', 'mercury', 'island', 'india', 'russia', 'woman', 'union', 'hole', 'soviet', 'person', 'copper', 'morocco', 'speed']\n",
      "Topic # 69 :  ['henry', 'ireland', 'slave', 'car', 'copper', 'ball', 'island', 'team', 'bush', 'president', 'base', 'empire', 'john', 'model', 'metal', 'engine', 'field', 'verb', 'northern', 'dog']\n",
      "Topic # 70 :  ['tropical', 'window', 'poland', 'god', 'henry', 'germany', 'black', 'list', 'jane', 'service', 'national', 'english', 'band', 'russia', 'john', 'new', 'car', 'hole', 'microsoft', 'weather']\n",
      "Topic # 71 :  ['tropical', 'mountain', 'william', 'house', 'pope', 'earth', 'list', 'cuba', 'ball', 'book', 'team', 'verb', 'poland', 'apple', 'national', 'base', 'island', 'germany', 'ii', 'painting']\n",
      "Topic # 72 :  ['insect', 'verb', 'island', 'color', 'planet', 'tropical', 'slave', 'house', 'ireland', 'copper', 'law', 'work', 'computer', 'soil', 'blood', 'town', 'president', 'russia', 'christmas', 'esperanto']\n",
      "Topic # 73 :  ['tropical', 'book', 'window', 'bush', 'weapon', 'list', 'war', 'nuclear', 'called', 'use', 'australia', 'service', 'paper', 'word', 'john', 'microsoft', 'washington', 'slave', 'color', 'dog']\n",
      "Topic # 74 :  ['mercury', 'drive', 'island', 'star', 'ireland', 'book', 'car', 'device', 'party', 'theory', 'energy', 'english', 'data', 'india', 'british', 'place', 'scotland', 'doctor', 'mountain', 'sea']\n",
      "Topic # 75 :  ['mercury', 'new', 'bush', 'blood', 'nuclear', 'weapon', 'slave', 'team', 'window', 'york', 'queen', 'ball', 'band', 'cuba', 'guitar', 'water', 'river', 'country', 'ii', 'jane']\n",
      "Topic # 76 :  ['house', 'slave', 'queen', 'camp', 'new', 'family', 'built', 'law', 'black', 'ireland', 'elizabeth', 'netherlands', 'pope', 'oxygen', 'language', 'prince', 'africa', 'york', 'chemical', 'gas']\n",
      "Topic # 77 :  ['word', 'house', 'book', 'soviet', 'jane', 'henry', 'africa', 'party', 'south', 'black', 'nuclear', 'germany', 'cuba', 'drive', 'russian', 'poland', 'russia', 'union', 'doctor', 'slave']\n",
      "Topic # 78 :  ['rock', 'word', 'insect', 'earth', 'slave', 'copper', 'drive', 'electron', 'queen', 'africa', 'italy', 'energy', 'window', 'club', 'empire', 'war', 'river', 'english', 'greece', 'mountain']\n",
      "Topic # 79 :  ['copper', 'window', 'water', 'india', 'word', 'netherlands', 'band', 'time', 'woman', 'ice', 'microsoft', 'planet', 'like', 'party', 'cuba', 'dutch', 'fish', 'ireland', 'hole', 'mean']\n",
      "Topic # 80 :  ['tropical', 'house', 'list', 'greece', 'apple', 'blood', 'war', 'world', 'english', 'empire', 'church', 'weather', 'place', 'built', 'copper', 'fish', 'theory', 'italy', 'roman', 'movie']\n",
      "Topic # 81 :  ['bush', 'copper', 'drive', 'law', 'blood', 'book', 'house', 'data', 'family', 'country', 'device', 'italy', 'metal', 'school', 'camp', 'verb', 'club', 'fish', 'rock', 'anne']\n",
      "Topic # 82 :  ['ireland', 'bush', 'word', 'universe', 'tropical', 'dog', 'person', 'called', 'body', 'northern', 'fish', 'blood', 'painting', 'planet', 'heart', 'christmas', 'like', 'list', 'idea', 'doctor']\n",
      "Topic # 83 :  ['ireland', 'english', 'river', 'blood', 'africa', 'south', 'work', 'copper', 'washington', 'ball', 'union', 'body', 'soil', 'jane', 'northern', 'insect', 'car', 'right', 'person', 'way']\n",
      "Topic # 84 :  ['drive', 'device', 'data', 'century', 'blood', 'party', 'language', 'netherlands', 'russia', 'russian', 'club', 'tropical', 'empire', 'window', 'religion', 'dutch', 'cuba', 'dog', 'human', 'verb']\n",
      "Topic # 85 :  ['weapon', 'nuclear', 'fish', 'party', 'time', 'rock', 'mercury', 'group', 'copper', 'language', 'right', 'energy', 'verb', 'law', 'black', 'live', 'club', 'henry', 'wave', 'car']\n",
      "Topic # 86 :  ['drive', 'italy', 'nuclear', 'insect', 'weapon', 'italian', 'device', 'river', 'painting', 'oxygen', 'president', 'france', 'woman', 'data', 'famous', 'island', 'shark', 'people', 'known', 'virus']\n",
      "Topic # 87 :  ['dog', 'english', 'italy', 'president', 'jane', 'human', 'fish', 'called', 'esperanto', '000', 'japan', 'italian', 'mountain', 'paper', 'large', 'animal', 'horse', 'universe', 'painting', 'milk']\n",
      "Topic # 88 :  ['dog', 'human', 'bush', 'physic', 'law', 'mercury', 'netherlands', 'science', 'germany', 'study', 'slave', 'word', 'star', 'thing', 'apple', 'band', 'ireland', 'theory', 'unit', 'live']\n",
      "Topic # 89 :  ['jane', 'japan', 'netherlands', 'blood', 'mary', '000', 'italy', 'london', 'rock', 'unit', 'mountain', 'insect', 'woman', 'second', 'ireland', 'club', 'australia', 'dutch', 'camp', 'mean']\n",
      "Topic # 90 :  ['slave', 'party', 'island', 'germany', 'jane', 'nuclear', 'east', 'japan', 'drive', 'weapon', 'school', 'greece', 'like', 'bush', 'west', 'sea', 'law', 'john', 'idea', 'album']\n",
      "Topic # 91 :  ['greece', 'new', 'camp', 'ireland', 'president', 'physic', 'like', 'south', 'mountain', 'africa', 'york', 'unit', 'italy', 'drive', 'steel', 'device', 'earth', 'greek', 'club', 'data']\n",
      "Topic # 92 :  ['slave', 'fish', 'ireland', 'tropical', 'president', 'person', 'japan', 'country', 'horse', 'work', 'german', 'virus', 'australia', 'painting', 'life', 'day', 'korea', 'particle', 'india', 'european']\n",
      "Topic # 93 :  ['fish', 'dog', 'book', 'insect', 'rock', 'slave', 'president', 'henry', 'world', 'australia', 'light', 'germany', 'greece', 'body', 'unit', 'anne', 'mountain', 'physic', 'water', 'article']\n",
      "Topic # 94 :  ['jane', 'dog', 'tropical', 'ireland', 'cuba', 'river', 'party', 'italy', 'book', 'mary', 'list', 'disorder', 'australia', 'power', 'weather', 'child', 'law', 'god', 'india', 'northern']\n",
      "Topic # 95 :  ['greece', 'dog', 'time', 'camp', 'second', 'unit', 'woman', 'party', 'greek', 'henry', 'english', 'soil', 'bush', 'slave', 'base', 'death', 'insect', 'wave', 'work', 'black']\n",
      "Topic # 96 :  ['copper', 'plant', 'greece', 'book', 'japan', 'germany', 'island', 'slave', 'window', 'party', 'henry', 'air', 'person', 'band', 'paper', 'woman', 'car', 'london', 'forest', 'greek']\n",
      "Topic # 97 :  ['john', 'paper', 'london', 'bush', 'italy', 'germany', 'south', 'woman', 'fish', 'cuba', 'book', 'world', 'africa', 'scotland', 'jane', 'time', 'universe', 'france', 'olympic', 'mercury']\n",
      "Topic # 98 :  ['jane', 'greece', 'fish', 'washington', 'ireland', 'mary', 'bush', 'religion', 'greek', 'house', 'life', 'empire', 'virus', 'like', 'william', 'body', 'person', 'cell', 'poland', 'verb']\n",
      "Topic # 99 :  ['fish', 'soil', 'different', 'blood', 'child', 'device', 'oxygen', 'australia', 'japan', 'band', 'school', 'land', 'word', 'italy', 'work', 'tropical', 'abortion', 'speed', 'earth', 'christmas']\n"
     ]
    },
    {
     "ename": "FileNotFoundError",
     "evalue": "[Errno 2] No such file or directory: './results/lda_topics.merged.csv'",
     "output_type": "error",
     "traceback": [
      "\u001b[0;31m---------------------------------------------------------------------------\u001b[0m",
      "\u001b[0;31mFileNotFoundError\u001b[0m                         Traceback (most recent call last)",
      "\u001b[0;32m<ipython-input-8-eedc5c1b78a7>\u001b[0m in \u001b[0;36m<module>\u001b[0;34m\u001b[0m\n\u001b[1;32m      1\u001b[0m \u001b[0mlsi_topics_df\u001b[0m \u001b[0;34m=\u001b[0m \u001b[0mlsi_modeling\u001b[0m\u001b[0;34m.\u001b[0m\u001b[0mcreate_topics_df\u001b[0m\u001b[0;34m(\u001b[0m\u001b[0;34m)\u001b[0m\u001b[0;34m\u001b[0m\u001b[0;34m\u001b[0m\u001b[0m\n\u001b[0;32m----> 2\u001b[0;31m \u001b[0mlsi_topics_df\u001b[0m\u001b[0;34m.\u001b[0m\u001b[0mto_csv\u001b[0m\u001b[0;34m(\u001b[0m\u001b[0;34m'./results/lda_topics.merged.csv'\u001b[0m\u001b[0;34m)\u001b[0m\u001b[0;34m\u001b[0m\u001b[0;34m\u001b[0m\u001b[0m\n\u001b[0m",
      "\u001b[0;32m~/anaconda3/envs/amber/lib/python3.6/site-packages/pandas/core/generic.py\u001b[0m in \u001b[0;36mto_csv\u001b[0;34m(self, path_or_buf, sep, na_rep, float_format, columns, header, index, index_label, mode, encoding, compression, quoting, quotechar, line_terminator, chunksize, tupleize_cols, date_format, doublequote, escapechar, decimal)\u001b[0m\n\u001b[1;32m   3018\u001b[0m                                  \u001b[0mdoublequote\u001b[0m\u001b[0;34m=\u001b[0m\u001b[0mdoublequote\u001b[0m\u001b[0;34m,\u001b[0m\u001b[0;34m\u001b[0m\u001b[0;34m\u001b[0m\u001b[0m\n\u001b[1;32m   3019\u001b[0m                                  escapechar=escapechar, decimal=decimal)\n\u001b[0;32m-> 3020\u001b[0;31m         \u001b[0mformatter\u001b[0m\u001b[0;34m.\u001b[0m\u001b[0msave\u001b[0m\u001b[0;34m(\u001b[0m\u001b[0;34m)\u001b[0m\u001b[0;34m\u001b[0m\u001b[0;34m\u001b[0m\u001b[0m\n\u001b[0m\u001b[1;32m   3021\u001b[0m \u001b[0;34m\u001b[0m\u001b[0m\n\u001b[1;32m   3022\u001b[0m         \u001b[0;32mif\u001b[0m \u001b[0mpath_or_buf\u001b[0m \u001b[0;32mis\u001b[0m \u001b[0;32mNone\u001b[0m\u001b[0;34m:\u001b[0m\u001b[0;34m\u001b[0m\u001b[0;34m\u001b[0m\u001b[0m\n",
      "\u001b[0;32m~/anaconda3/envs/amber/lib/python3.6/site-packages/pandas/io/formats/csvs.py\u001b[0m in \u001b[0;36msave\u001b[0;34m(self)\u001b[0m\n\u001b[1;32m    155\u001b[0m             f, handles = _get_handle(self.path_or_buf, self.mode,\n\u001b[1;32m    156\u001b[0m                                      \u001b[0mencoding\u001b[0m\u001b[0;34m=\u001b[0m\u001b[0mself\u001b[0m\u001b[0;34m.\u001b[0m\u001b[0mencoding\u001b[0m\u001b[0;34m,\u001b[0m\u001b[0;34m\u001b[0m\u001b[0;34m\u001b[0m\u001b[0m\n\u001b[0;32m--> 157\u001b[0;31m                                      compression=self.compression)\n\u001b[0m\u001b[1;32m    158\u001b[0m             \u001b[0mclose\u001b[0m \u001b[0;34m=\u001b[0m \u001b[0;32mTrue\u001b[0m\u001b[0;34m\u001b[0m\u001b[0;34m\u001b[0m\u001b[0m\n\u001b[1;32m    159\u001b[0m \u001b[0;34m\u001b[0m\u001b[0m\n",
      "\u001b[0;32m~/anaconda3/envs/amber/lib/python3.6/site-packages/pandas/io/common.py\u001b[0m in \u001b[0;36m_get_handle\u001b[0;34m(path_or_buf, mode, encoding, compression, memory_map, is_text)\u001b[0m\n\u001b[1;32m    422\u001b[0m         \u001b[0;32melif\u001b[0m \u001b[0mencoding\u001b[0m\u001b[0;34m:\u001b[0m\u001b[0;34m\u001b[0m\u001b[0;34m\u001b[0m\u001b[0m\n\u001b[1;32m    423\u001b[0m             \u001b[0;31m# Python 3 and encoding\u001b[0m\u001b[0;34m\u001b[0m\u001b[0;34m\u001b[0m\u001b[0;34m\u001b[0m\u001b[0m\n\u001b[0;32m--> 424\u001b[0;31m             \u001b[0mf\u001b[0m \u001b[0;34m=\u001b[0m \u001b[0mopen\u001b[0m\u001b[0;34m(\u001b[0m\u001b[0mpath_or_buf\u001b[0m\u001b[0;34m,\u001b[0m \u001b[0mmode\u001b[0m\u001b[0;34m,\u001b[0m \u001b[0mencoding\u001b[0m\u001b[0;34m=\u001b[0m\u001b[0mencoding\u001b[0m\u001b[0;34m,\u001b[0m \u001b[0mnewline\u001b[0m\u001b[0;34m=\u001b[0m\u001b[0;34m\"\"\u001b[0m\u001b[0;34m)\u001b[0m\u001b[0;34m\u001b[0m\u001b[0;34m\u001b[0m\u001b[0m\n\u001b[0m\u001b[1;32m    425\u001b[0m         \u001b[0;32melif\u001b[0m \u001b[0mis_text\u001b[0m\u001b[0;34m:\u001b[0m\u001b[0;34m\u001b[0m\u001b[0;34m\u001b[0m\u001b[0m\n\u001b[1;32m    426\u001b[0m             \u001b[0;31m# Python 3 and no explicit encoding\u001b[0m\u001b[0;34m\u001b[0m\u001b[0;34m\u001b[0m\u001b[0;34m\u001b[0m\u001b[0m\n",
      "\u001b[0;31mFileNotFoundError\u001b[0m: [Errno 2] No such file or directory: './results/lda_topics.merged.csv'"
     ]
    }
   ],
   "source": [
    "lsi_topics_df = lsi_modeling.create_topics_df()\n",
    "lsi_topics_df.to_csv('./results/lda_topics.merged.csv')"
   ]
  },
  {
   "cell_type": "markdown",
   "metadata": {},
   "source": [
    "# Get topics for train set"
   ]
  },
  {
   "cell_type": "code",
   "execution_count": 9,
   "metadata": {},
   "outputs": [
    {
     "data": {
      "text/html": [
       "<div>\n",
       "<style scoped>\n",
       "    .dataframe tbody tr th:only-of-type {\n",
       "        vertical-align: middle;\n",
       "    }\n",
       "\n",
       "    .dataframe tbody tr th {\n",
       "        vertical-align: top;\n",
       "    }\n",
       "\n",
       "    .dataframe thead th {\n",
       "        text-align: right;\n",
       "    }\n",
       "</style>\n",
       "<table border=\"1\" class=\"dataframe\">\n",
       "  <thead>\n",
       "    <tr style=\"text-align: right;\">\n",
       "      <th></th>\n",
       "      <th>text</th>\n",
       "      <th>nfm</th>\n",
       "      <th>lda</th>\n",
       "      <th>lsi</th>\n",
       "    </tr>\n",
       "  </thead>\n",
       "  <tbody>\n",
       "    <tr>\n",
       "      <th>0</th>\n",
       "      <td>Pollution\n",
       "\n",
       "Pollution is when some harmful sub...</td>\n",
       "      <td>(52, [water, air, liquid, temperature, ice, ra...</td>\n",
       "      <td>(60, [water, gas, air, temperature, carbon, ox...</td>\n",
       "      <td>(0, [people, called, country, state, year, tim...</td>\n",
       "    </tr>\n",
       "    <tr>\n",
       "      <th>1</th>\n",
       "      <td>Schwerin\n",
       "\n",
       "Schwerin is the capital city of the...</td>\n",
       "      <td>(27, [capital, province, district, greece, cit...</td>\n",
       "      <td>(24, [city, people, area, capital, 000, new, l...</td>\n",
       "      <td>(0, [people, called, country, state, year, tim...</td>\n",
       "    </tr>\n",
       "    <tr>\n",
       "      <th>2</th>\n",
       "      <td>Sir Mix-A-Lot\n",
       "\n",
       "Sir Mix-a-Lot (born Anthony Ra...</td>\n",
       "      <td>(63, [song, singer, popular, hit, best, 1970s,...</td>\n",
       "      <td>(76, [movie, released, born, american, album, ...</td>\n",
       "      <td>(0, [people, called, country, state, year, tim...</td>\n",
       "    </tr>\n",
       "    <tr>\n",
       "      <th>3</th>\n",
       "      <td>1790</td>\n",
       "      <td>(0, [young, famous, final, film, fighting, fig...</td>\n",
       "      <td>(0, [sea, water, ocean, level, dead, life, sur...</td>\n",
       "      <td>(0, [people, called, country, state, year, tim...</td>\n",
       "    </tr>\n",
       "    <tr>\n",
       "      <th>4</th>\n",
       "      <td>Epidemic\n",
       "\n",
       "An epidemic is a disease that sprea...</td>\n",
       "      <td>(74, [disease, doctor, medicine, blood, virus,...</td>\n",
       "      <td>(7, [doctor, disease, medicine, treatment, med...</td>\n",
       "      <td>(0, [people, called, country, state, year, tim...</td>\n",
       "    </tr>\n",
       "    <tr>\n",
       "      <th>5</th>\n",
       "      <td>Pharaoh\n",
       "\n",
       "Pharaohs were kings of ancient Egypt...</td>\n",
       "      <td>(37, [king, england, henry, queen, kingdom, wi...</td>\n",
       "      <td>(8, [century, ancient, bc, year, roman, time, ...</td>\n",
       "      <td>(0, [people, called, country, state, year, tim...</td>\n",
       "    </tr>\n",
       "    <tr>\n",
       "      <th>6</th>\n",
       "      <td>Electron\n",
       "\n",
       "An electron is a very small piece o...</td>\n",
       "      <td>(64, [atom, chemical, compound, electron, ener...</td>\n",
       "      <td>(43, [energy, unit, atom, electron, object, re...</td>\n",
       "      <td>(42, [doctor, light, color, electron, energy, ...</td>\n",
       "    </tr>\n",
       "    <tr>\n",
       "      <th>7</th>\n",
       "      <td>Ashford, Kent\n",
       "\n",
       "Ashford is a large town in Ken...</td>\n",
       "      <td>(88, [county, town, england, district, village...</td>\n",
       "      <td>(24, [city, people, area, capital, 000, new, l...</td>\n",
       "      <td>(0, [people, called, country, state, year, tim...</td>\n",
       "    </tr>\n",
       "    <tr>\n",
       "      <th>8</th>\n",
       "      <td>Apocrypha\n",
       "\n",
       "The Apocrypha are religious texts ...</td>\n",
       "      <td>(41, [book, wrote, story, written, writer, fam...</td>\n",
       "      <td>(94, [church, christian, religion, catholic, j...</td>\n",
       "      <td>(0, [people, called, country, state, year, tim...</td>\n",
       "    </tr>\n",
       "    <tr>\n",
       "      <th>9</th>\n",
       "      <td>Donald Sutherland\n",
       "\n",
       "Donald McNichol Sutherland...</td>\n",
       "      <td>(98, [actor, role, best, television, known, pl...</td>\n",
       "      <td>(76, [movie, released, born, american, album, ...</td>\n",
       "      <td>(31, [movie, cell, romania, korea, star, north...</td>\n",
       "    </tr>\n",
       "  </tbody>\n",
       "</table>\n",
       "</div>"
      ],
      "text/plain": [
       "                                                text  \\\n",
       "0  \n",
       "Pollution\n",
       "\n",
       "Pollution is when some harmful sub...   \n",
       "1  \n",
       "Schwerin\n",
       "\n",
       "Schwerin is the capital city of the...   \n",
       "2  \n",
       "Sir Mix-A-Lot\n",
       "\n",
       "Sir Mix-a-Lot (born Anthony Ra...   \n",
       "3                                         \n",
       "1790\n",
       "\n",
       "\n",
       "\n",
       "\n",
       "   \n",
       "4  \n",
       "Epidemic\n",
       "\n",
       "An epidemic is a disease that sprea...   \n",
       "5  \n",
       "Pharaoh\n",
       "\n",
       "Pharaohs were kings of ancient Egypt...   \n",
       "6  \n",
       "Electron\n",
       "\n",
       "An electron is a very small piece o...   \n",
       "7  \n",
       "Ashford, Kent\n",
       "\n",
       "Ashford is a large town in Ken...   \n",
       "8  \n",
       "Apocrypha\n",
       "\n",
       "The Apocrypha are religious texts ...   \n",
       "9  \n",
       "Donald Sutherland\n",
       "\n",
       "Donald McNichol Sutherland...   \n",
       "\n",
       "                                                 nfm  \\\n",
       "0  (52, [water, air, liquid, temperature, ice, ra...   \n",
       "1  (27, [capital, province, district, greece, cit...   \n",
       "2  (63, [song, singer, popular, hit, best, 1970s,...   \n",
       "3  (0, [young, famous, final, film, fighting, fig...   \n",
       "4  (74, [disease, doctor, medicine, blood, virus,...   \n",
       "5  (37, [king, england, henry, queen, kingdom, wi...   \n",
       "6  (64, [atom, chemical, compound, electron, ener...   \n",
       "7  (88, [county, town, england, district, village...   \n",
       "8  (41, [book, wrote, story, written, writer, fam...   \n",
       "9  (98, [actor, role, best, television, known, pl...   \n",
       "\n",
       "                                                 lda  \\\n",
       "0  (60, [water, gas, air, temperature, carbon, ox...   \n",
       "1  (24, [city, people, area, capital, 000, new, l...   \n",
       "2  (76, [movie, released, born, american, album, ...   \n",
       "3  (0, [sea, water, ocean, level, dead, life, sur...   \n",
       "4  (7, [doctor, disease, medicine, treatment, med...   \n",
       "5  (8, [century, ancient, bc, year, roman, time, ...   \n",
       "6  (43, [energy, unit, atom, electron, object, re...   \n",
       "7  (24, [city, people, area, capital, 000, new, l...   \n",
       "8  (94, [church, christian, religion, catholic, j...   \n",
       "9  (76, [movie, released, born, american, album, ...   \n",
       "\n",
       "                                                 lsi  \n",
       "0  (0, [people, called, country, state, year, tim...  \n",
       "1  (0, [people, called, country, state, year, tim...  \n",
       "2  (0, [people, called, country, state, year, tim...  \n",
       "3  (0, [people, called, country, state, year, tim...  \n",
       "4  (0, [people, called, country, state, year, tim...  \n",
       "5  (0, [people, called, country, state, year, tim...  \n",
       "6  (42, [doctor, light, color, electron, energy, ...  \n",
       "7  (0, [people, called, country, state, year, tim...  \n",
       "8  (0, [people, called, country, state, year, tim...  \n",
       "9  (31, [movie, cell, romania, korea, star, north...  "
      ]
     },
     "execution_count": 9,
     "metadata": {},
     "output_type": "execute_result"
    }
   ],
   "source": [
    "full_df = pd.DataFrame({'text': train_docs})\n",
    "full_df['nfm'] = full_df['text'].apply(nmf_modeling.predict_topic)\n",
    "full_df['lda'] = full_df['text'].apply(lda_modeling.predict_topic)\n",
    "full_df['lsi'] = full_df['text'].apply(lsi_modeling.predict_topic)\n",
    "full_df.head(10)"
   ]
  },
  {
   "cell_type": "code",
   "execution_count": 11,
   "metadata": {},
   "outputs": [],
   "source": [
    "full_df.to_csv('../results/labeled_train_set.merged.csv')"
   ]
  },
  {
   "cell_type": "markdown",
   "metadata": {},
   "source": [
    "# Predict topics for test set"
   ]
  },
  {
   "cell_type": "code",
   "execution_count": 13,
   "metadata": {},
   "outputs": [
    {
     "data": {
      "text/html": [
       "<div>\n",
       "<style scoped>\n",
       "    .dataframe tbody tr th:only-of-type {\n",
       "        vertical-align: middle;\n",
       "    }\n",
       "\n",
       "    .dataframe tbody tr th {\n",
       "        vertical-align: top;\n",
       "    }\n",
       "\n",
       "    .dataframe thead th {\n",
       "        text-align: right;\n",
       "    }\n",
       "</style>\n",
       "<table border=\"1\" class=\"dataframe\">\n",
       "  <thead>\n",
       "    <tr style=\"text-align: right;\">\n",
       "      <th></th>\n",
       "      <th>text</th>\n",
       "      <th>nfm</th>\n",
       "      <th>lda</th>\n",
       "      <th>lsi</th>\n",
       "    </tr>\n",
       "  </thead>\n",
       "  <tbody>\n",
       "    <tr>\n",
       "      <th>0</th>\n",
       "      <td>Usenet\n",
       "\n",
       "Netnews is a kind of online service t...</td>\n",
       "      <td>(13, [computer, program, data, device, drive, ...</td>\n",
       "      <td>(58, [computer, program, user, use, window, so...</td>\n",
       "      <td>(18, [computer, tree, jackson, abortion, progr...</td>\n",
       "    </tr>\n",
       "    <tr>\n",
       "      <th>1</th>\n",
       "      <td>1906\n",
       "\n",
       "1906 (MCMVI) was a common year starting...</td>\n",
       "      <td>(1, [calendar, starting, common, year, leap, s...</td>\n",
       "      <td>(13, [year, day, calendar, common, month, week...</td>\n",
       "      <td>(9, [year, day, william, king, church, tree, c...</td>\n",
       "    </tr>\n",
       "    <tr>\n",
       "      <th>2</th>\n",
       "      <td>Line\n",
       "\n",
       "A line is the path of one point moving....</td>\n",
       "      <td>(75, [usually, called, time, like, type, use, ...</td>\n",
       "      <td>(69, [line, japan, japanese, station, train, n...</td>\n",
       "      <td>(13, [number, mario, mosque, tree, morocco, wi...</td>\n",
       "    </tr>\n",
       "    <tr>\n",
       "      <th>3</th>\n",
       "      <td>Osama bin Laden\n",
       "\n",
       "Osama bin Mohammed bin Awad ...</td>\n",
       "      <td>(85, [child, father, family, died, mother, son...</td>\n",
       "      <td>(72, [died, family, year, later, father, time,...</td>\n",
       "      <td>(0, [people, called, country, state, year, tim...</td>\n",
       "    </tr>\n",
       "    <tr>\n",
       "      <th>4</th>\n",
       "      <td>Palette knife\n",
       "\n",
       "A palette knife is not actuall...</td>\n",
       "      <td>(43, [color, red, white, blue, black, green, f...</td>\n",
       "      <td>(25, [color, white, red, blue, green, brown, c...</td>\n",
       "      <td>(52, [color, apple, earth, cancer, black, stri...</td>\n",
       "    </tr>\n",
       "    <tr>\n",
       "      <th>5</th>\n",
       "      <td>Adobe Illustrator\n",
       "\n",
       "Adobe Illustrator is a com...</td>\n",
       "      <td>(13, [computer, program, data, device, drive, ...</td>\n",
       "      <td>(58, [computer, program, user, use, window, so...</td>\n",
       "      <td>(18, [computer, tree, jackson, abortion, progr...</td>\n",
       "    </tr>\n",
       "    <tr>\n",
       "      <th>6</th>\n",
       "      <td>Jaguar\n",
       "\n",
       "The jaguar (\"Panthera onca\") is a big...</td>\n",
       "      <td>(95, [specie, bird, egg, live, mammal, family,...</td>\n",
       "      <td>(75, [bird, female, male, live, egg, dog, wing...</td>\n",
       "      <td>(0, [people, called, country, state, year, tim...</td>\n",
       "    </tr>\n",
       "    <tr>\n",
       "      <th>7</th>\n",
       "      <td>Atom\n",
       "\n",
       "The atom is the basic unit of matter. I...</td>\n",
       "      <td>(64, [atom, chemical, compound, electron, ener...</td>\n",
       "      <td>(43, [energy, unit, atom, electron, object, re...</td>\n",
       "      <td>(0, [people, called, country, state, year, tim...</td>\n",
       "    </tr>\n",
       "    <tr>\n",
       "      <th>8</th>\n",
       "      <td>Carl Radle\n",
       "\n",
       "Carl Dean Radle (born June 18, 19...</td>\n",
       "      <td>(6, [album, released, single, record, hit, sol...</td>\n",
       "      <td>(76, [movie, released, born, american, album, ...</td>\n",
       "      <td>(4, [album, jackson, music, band, song, releas...</td>\n",
       "    </tr>\n",
       "    <tr>\n",
       "      <th>9</th>\n",
       "      <td>William III of Aquitaine\n",
       "\n",
       "William III of Aqui...</td>\n",
       "      <td>(37, [king, england, henry, queen, kingdom, wi...</td>\n",
       "      <td>(31, [france, king, henry, england, french, wi...</td>\n",
       "      <td>(9, [year, day, william, king, church, tree, c...</td>\n",
       "    </tr>\n",
       "  </tbody>\n",
       "</table>\n",
       "</div>"
      ],
      "text/plain": [
       "                                                text  \\\n",
       "0  \n",
       "Usenet\n",
       "\n",
       "Netnews is a kind of online service t...   \n",
       "1  \n",
       "1906\n",
       "\n",
       "1906 (MCMVI) was a common year starting...   \n",
       "2  \n",
       "Line\n",
       "\n",
       "A line is the path of one point moving....   \n",
       "3  \n",
       "Osama bin Laden\n",
       "\n",
       "Osama bin Mohammed bin Awad ...   \n",
       "4  \n",
       "Palette knife\n",
       "\n",
       "A palette knife is not actuall...   \n",
       "5  \n",
       "Adobe Illustrator\n",
       "\n",
       "Adobe Illustrator is a com...   \n",
       "6  \n",
       "Jaguar\n",
       "\n",
       "The jaguar (\"Panthera onca\") is a big...   \n",
       "7  \n",
       "Atom\n",
       "\n",
       "The atom is the basic unit of matter. I...   \n",
       "8  \n",
       "Carl Radle\n",
       "\n",
       "Carl Dean Radle (born June 18, 19...   \n",
       "9  \n",
       "William III of Aquitaine\n",
       "\n",
       "William III of Aqui...   \n",
       "\n",
       "                                                 nfm  \\\n",
       "0  (13, [computer, program, data, device, drive, ...   \n",
       "1  (1, [calendar, starting, common, year, leap, s...   \n",
       "2  (75, [usually, called, time, like, type, use, ...   \n",
       "3  (85, [child, father, family, died, mother, son...   \n",
       "4  (43, [color, red, white, blue, black, green, f...   \n",
       "5  (13, [computer, program, data, device, drive, ...   \n",
       "6  (95, [specie, bird, egg, live, mammal, family,...   \n",
       "7  (64, [atom, chemical, compound, electron, ener...   \n",
       "8  (6, [album, released, single, record, hit, sol...   \n",
       "9  (37, [king, england, henry, queen, kingdom, wi...   \n",
       "\n",
       "                                                 lda  \\\n",
       "0  (58, [computer, program, user, use, window, so...   \n",
       "1  (13, [year, day, calendar, common, month, week...   \n",
       "2  (69, [line, japan, japanese, station, train, n...   \n",
       "3  (72, [died, family, year, later, father, time,...   \n",
       "4  (25, [color, white, red, blue, green, brown, c...   \n",
       "5  (58, [computer, program, user, use, window, so...   \n",
       "6  (75, [bird, female, male, live, egg, dog, wing...   \n",
       "7  (43, [energy, unit, atom, electron, object, re...   \n",
       "8  (76, [movie, released, born, american, album, ...   \n",
       "9  (31, [france, king, henry, england, french, wi...   \n",
       "\n",
       "                                                 lsi  \n",
       "0  (18, [computer, tree, jackson, abortion, progr...  \n",
       "1  (9, [year, day, william, king, church, tree, c...  \n",
       "2  (13, [number, mario, mosque, tree, morocco, wi...  \n",
       "3  (0, [people, called, country, state, year, tim...  \n",
       "4  (52, [color, apple, earth, cancer, black, stri...  \n",
       "5  (18, [computer, tree, jackson, abortion, progr...  \n",
       "6  (0, [people, called, country, state, year, tim...  \n",
       "7  (0, [people, called, country, state, year, tim...  \n",
       "8  (4, [album, jackson, music, band, song, releas...  \n",
       "9  (9, [year, day, william, king, church, tree, c...  "
      ]
     },
     "execution_count": 13,
     "metadata": {},
     "output_type": "execute_result"
    }
   ],
   "source": [
    "full_test_df = pd.DataFrame({'text': test_docs})\n",
    "full_test_df['nfm'] = full_test_df['text'].apply(nmf_modeling.predict_topic)\n",
    "full_test_df['lda'] = full_test_df['text'].apply(lda_modeling.predict_topic)\n",
    "full_test_df['lsi'] = full_test_df['text'].apply(lsi_modeling.predict_topic)\n",
    "full_test_df.head(10)"
   ]
  },
  {
   "cell_type": "code",
   "execution_count": 14,
   "metadata": {},
   "outputs": [],
   "source": [
    "full_test_df.to_csv('../results/labeled_test_set.merged.csv')"
   ]
  },
  {
   "cell_type": "markdown",
   "metadata": {},
   "source": [
    "# Compare WordClouds for different models"
   ]
  },
  {
   "cell_type": "code",
   "execution_count": 15,
   "metadata": {},
   "outputs": [
    {
     "data": {
      "text/plain": [
       "'\\nSamoa\\n\\nThe Independent State of Samoa is a country in Pacific Ocean. It became independent from New Zealand in 1962. It has two islands, including Upolu and Savai\\'i. The capital of Samoa is Apia. It is on the island of Upolu. The head of the country is Malietoa Tanumafili II. \\n\\nThe languages spoken in Samoa include Samoan and English. \\n\\nThe sport that is most popular in Samoa is Rugby, and many Samoan people play Rugby.\\n\\nSamoa was admitted to the United Nations on 15 December 1976.\\n\\nSamoa has eleven political districts. These are called \"itūmālō\". These are the traditional eleven districts that were made well before European arrival.\\n\\nSamoa is south of the equator. It is about halfway between Hawai‘i and New Zealand in the Polynesian part of the Pacific Ocean. The main island of Upolu is home to nearly three-quarters of Samoa\\'s people\\n\\nThe two large islands of Upolu and Savai\\'i are 99% of the total land area. There are eight small islets. These are the three islets in the Apolima Strait: Manono Island, Apolima and Nu\\'ulopa. There are four Aleipata Islands off the eastern end of Upolu. They are: Nu\\'utele, Nu\\'ulua, Namua, and Fanuatapu. And there is Nu\\'usafe\\'e.\\n\\nEast of Samoa is a group of islands called American Samoa. They are part of the United States, but they are similar to the country Samoa, because they also speak Samoan.\\n\\nSamoa used to be east of the international date line. In 2011, the line changed, so that Samoa would be to the west of the date line. This change took effect on the night of 29 December. Friday was skipped altogether and the following day was Saturday 31 December. \\n\\nSamoa has 194,320 people. 92.6% are Samoans, 7% Euronesians (people of mixed, European and Polynesian ancestors) and 0.4% are Europeans.\\n\\nReligion in Samoa includes the following: Christian Congregational Church of Samoa 35.5%, Roman Catholic 19.6%, Methodist 15%, Latter-day Saints 12.7%, Samoan Assemblies of God 10.6%, Seventh-day Adventist 3.5%, Worship Centre 1.3%, unspecified 0.8%.There is also about 522 Jehovah\\'s Witnessses in Samoa since 1931. Samoa has one of seven Bahá\\'í Houses of Worship in the world. It is in Tiapapata.\\nMany people say that Samoan people are related to Māori people because lots of the language words are very similar to Maori language.\\n\\nAs with other Polynesian cultures (Hawai\\'ian, Tahitian and Māori), Samoans have two gender specific and culturally important tattoos. For males, it is called the Pe\\'a, It is intricate and geometrical patterns tattooed on areas from the knees up towards the ribs. A male who has such a tatau is called a soga\\'imiti. A Samoan girl or \"teine\" is given a malu. It covers the area from just below her knees to her upper thighs.\\n\\n\\n'"
      ]
     },
     "execution_count": 15,
     "metadata": {},
     "output_type": "execute_result"
    }
   ],
   "source": [
    "test_docs[30]"
   ]
  },
  {
   "cell_type": "code",
   "execution_count": 16,
   "metadata": {},
   "outputs": [
    {
     "name": "stdout",
     "output_type": "stream",
     "text": [
      "0 ['people', 'called', 'country', 'state', 'year', 'time', 'like', 'world', 'city', 'different', 'united', 'reagan', 'new', 'war', 'language', 'government', 'day', 'use', 'known', 'group', 'way', 'example', 'place', 'thing', 'woman', 'number', 'president', 'usually', 'person', 'south', 'word', 'area', 'work', 'music', 'north', 'century', 'later', 'life', 'game', 'mean', 'said', 'land', 'important', 'english', 'american', '000', 'child', 'live', 'king', 'law']\n"
     ]
    },
    {
     "data": {
      "image/png": "[encoded data removed]",
      "text/plain": [
       "<Figure size 432x288 with 1 Axes>"
      ]
     },
     "metadata": {
      "needs_background": "light"
     },
     "output_type": "display_data"
    }
   ],
   "source": [
    "lsi_modeling.get_wordcloud(test_docs[30], n_top_words=50)"
   ]
  },
  {
   "cell_type": "code",
   "execution_count": 17,
   "metadata": {},
   "outputs": [
    {
     "name": "stdout",
     "output_type": "stream",
     "text": [
      "40 ['country', 'people', 'china', 'region', 'india', 'republic', 'city', 'world', 'population', 'capital', 'area', 'largest', 'state', 'province', 'east', 'language', 'government', 'national', 'south', 'century', 'million', 'european', 'divided', 'called', 'border', 'culture', 'indian', 'nation', 'territory', 'independent', 'known', 'official', 'chinese', 'land', '000', 'west', 'north', 'kingdom', 'main', 'year', 'central', 'eastern', 'live', 'religion', 'economy', 'member', 'union', 'western', 'river', 'asia']\n"
     ]
    },
    {
     "data": {
      "image/png": "[encoded data removed]",
      "text/plain": [
       "<Figure size 432x288 with 1 Axes>"
      ]
     },
     "metadata": {
      "needs_background": "light"
     },
     "output_type": "display_data"
    }
   ],
   "source": [
    "lda_modeling.get_wordcloud(test_docs[30], n_top_words=50)"
   ]
  },
  {
   "cell_type": "code",
   "execution_count": 18,
   "metadata": {},
   "outputs": [
    {
     "name": "stdout",
     "output_type": "stream",
     "text": [
      "15 ['island', 'pacific', 'mile', 'british', 'largest', 'coast', 'ocean', 'small', 'population', 'speak', 'group', 'world', 'main', 'near', 'biggest', 'japan', 'ireland', 'land', 'volcano', 'south', 'east', 'km', 'nation', 'called', 'force', 'territory', 'united', 'native', 'port', '10', 'live', 'kingdom', 'beach', 'includes', 'australia', 'long', 'park', '000', 'large', 'west', 'official', 'took', 'smaller', 'st', 'britain', 'continent', 'lived', 'northern', 'prime', 'joined']\n"
     ]
    },
    {
     "data": {
      "image/png": "[encoded data removed]",
      "text/plain": [
       "<Figure size 432x288 with 1 Axes>"
      ]
     },
     "metadata": {
      "needs_background": "light"
     },
     "output_type": "display_data"
    }
   ],
   "source": [
    "nmf_modeling.get_wordcloud(test_docs[30], n_top_words=50)"
   ]
  },
  {
   "cell_type": "code",
   "execution_count": null,
   "metadata": {},
   "outputs": [],
   "source": []
  },
  {
   "cell_type": "code",
   "execution_count": null,
   "metadata": {},
   "outputs": [],
   "source": []
  },
  {
   "cell_type": "code",
   "execution_count": null,
   "metadata": {},
   "outputs": [],
   "source": []
  },
  {
   "cell_type": "code",
   "execution_count": null,
   "metadata": {},
   "outputs": [],
   "source": []
  }
 ],
 "metadata": {
  "kernelspec": {
   "display_name": "Python 3",
   "language": "python",
   "name": "python3"
  },
  "language_info": {
   "codemirror_mode": {
    "name": "ipython",
    "version": 3
   },
   "file_extension": ".py",
   "mimetype": "text/x-python",
   "name": "python",
   "nbconvert_exporter": "python",
   "pygments_lexer": "ipython3",
   "version": "3.6.7"
  }
 },
 "nbformat": 4,
 "nbformat_minor": 2
}
